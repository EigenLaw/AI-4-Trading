{
 "cells": [
  {
   "cell_type": "markdown",
   "metadata": {},
   "source": [
    "# Project 1: Trading with Momentum\n",
    "## Instructions\n",
    "Each problem consists of a function to implement and instructions on how to implement the function.  The parts of the function that need to be implemented are marked with a `# TODO` comment. After implementing the function, run the cell to test it against the unit tests we've provided. For each problem, we provide one or more unit tests from our `project_tests` package. These unit tests won't tell you if your answer is correct, but will warn you of any major errors. Your code will be checked for the correct solution when you submit it to Udacity.\n",
    "\n",
    "## Packages\n",
    "When you implement the functions, you'll only need to you use the packages you've used in the classroom, like [Pandas](https://pandas.pydata.org/) and [Numpy](http://www.numpy.org/). These packages will be imported for you. We recommend you don't add any import statements, otherwise the grader might not be able to run your code.\n",
    "\n",
    "The other packages that we're importing are `helper`, `project_helper`, and `project_tests`. These are custom packages built to help you solve the problems.  The `helper` and `project_helper` module contains utility functions and graph functions. The `project_tests` contains the unit tests for all the problems.\n",
    "\n",
    "### Install Packages"
   ]
  },
  {
   "cell_type": "code",
   "execution_count": 1,
   "metadata": {
    "scrolled": true
   },
   "outputs": [
    {
     "name": "stdout",
     "output_type": "stream",
     "text": [
      "Collecting colour==0.1.5 (from -r requirements.txt (line 1))\n",
      "  Using cached https://files.pythonhosted.org/packages/74/46/e81907704ab203206769dee1385dc77e1407576ff8f50a0681d0a6b541be/colour-0.1.5-py2.py3-none-any.whl\n",
      "Collecting cvxpy==1.0.3 (from -r requirements.txt (line 2))\n",
      "  Using cached https://files.pythonhosted.org/packages/a1/59/2613468ffbbe3a818934d06b81b9f4877fe054afbf4f99d2f43f398a0b34/cvxpy-1.0.3.tar.gz\n",
      "Requirement already satisfied: cycler==0.10.0 in /anaconda3/envs/zipline/lib/python3.5/site-packages (from -r requirements.txt (line 3)) (0.10.0)\n",
      "Collecting numpy==1.13.3 (from -r requirements.txt (line 4))\n",
      "  Using cached https://files.pythonhosted.org/packages/f3/af/e4c538ef267b7eaf8a13655ccc1d88e0364f35d751fd80964f1d914130e3/numpy-1.13.3-cp35-cp35m-macosx_10_6_intel.macosx_10_9_intel.macosx_10_9_x86_64.macosx_10_10_intel.macosx_10_10_x86_64.whl\n",
      "Collecting pandas==0.21.1 (from -r requirements.txt (line 5))\n",
      "\u001b[?25l  Downloading https://files.pythonhosted.org/packages/54/3e/816df3ff52b805038743c8e15a48e67524ecad9f9b597e2d10c61073cc7a/pandas-0.21.1-cp35-cp35m-macosx_10_6_intel.macosx_10_9_intel.macosx_10_9_x86_64.macosx_10_10_intel.macosx_10_10_x86_64.whl (14.9MB)\n",
      "\u001b[K    100% |████████████████████████████████| 14.9MB 2.9MB/s eta 0:00:01\n",
      "\u001b[?25hCollecting plotly==2.2.3 (from -r requirements.txt (line 6))\n",
      "\u001b[?25l  Downloading https://files.pythonhosted.org/packages/99/a6/8214b6564bf4ace9bec8a26e7f89832792be582c042c47c912d3201328a0/plotly-2.2.3.tar.gz (1.1MB)\n",
      "\u001b[K    100% |████████████████████████████████| 1.1MB 20.4MB/s ta 0:00:01\n",
      "\u001b[?25hRequirement already satisfied: pyparsing==2.2.0 in /anaconda3/envs/zipline/lib/python3.5/site-packages (from -r requirements.txt (line 7)) (2.2.0)\n",
      "Requirement already satisfied: python-dateutil==2.6.1 in /anaconda3/envs/zipline/lib/python3.5/site-packages (from -r requirements.txt (line 8)) (2.6.1)\n",
      "Requirement already satisfied: pytz==2017.3 in /anaconda3/envs/zipline/lib/python3.5/site-packages (from -r requirements.txt (line 9)) (2017.3)\n",
      "Requirement already satisfied: requests==2.18.4 in /anaconda3/envs/zipline/lib/python3.5/site-packages (from -r requirements.txt (line 10)) (2.18.4)\n",
      "Collecting scipy==1.0.0 (from -r requirements.txt (line 11))\n",
      "\u001b[?25l  Downloading https://files.pythonhosted.org/packages/c8/26/97789d2130a07ce3cf71dd1801580948c751425636deffe37e7c5c5ae343/scipy-1.0.0-cp35-cp35m-macosx_10_6_intel.macosx_10_9_intel.macosx_10_9_x86_64.macosx_10_10_intel.macosx_10_10_x86_64.whl (16.6MB)\n",
      "\u001b[K    100% |████████████████████████████████| 16.6MB 1.9MB/s eta 0:00:01\n",
      "\u001b[?25hRequirement already satisfied: scikit-learn==0.19.1 in /anaconda3/envs/zipline/lib/python3.5/site-packages (from -r requirements.txt (line 12)) (0.19.1)\n",
      "Requirement already satisfied: six==1.11.0 in /anaconda3/envs/zipline/lib/python3.5/site-packages (from -r requirements.txt (line 13)) (1.11.0)\n",
      "Collecting tqdm==4.19.5 (from -r requirements.txt (line 14))\n",
      "\u001b[?25l  Downloading https://files.pythonhosted.org/packages/71/3c/341b4fa23cb3abc335207dba057c790f3bb329f6757e1fcd5d347bcf8308/tqdm-4.19.5-py2.py3-none-any.whl (51kB)\n",
      "\u001b[K    100% |████████████████████████████████| 61kB 17.2MB/s ta 0:00:01\n",
      "\u001b[?25hCollecting osqp (from cvxpy==1.0.3->-r requirements.txt (line 2))\n",
      "\u001b[?25l  Downloading https://files.pythonhosted.org/packages/c4/e5/972b442ce27e8c89248ae5a66b70458a2500da3cb5f28da8d288eb7652ab/osqp-0.5.0-cp35-cp35m-macosx_10_6_intel.macosx_10_9_intel.macosx_10_9_x86_64.macosx_10_10_intel.macosx_10_10_x86_64.whl (221kB)\n",
      "\u001b[K    100% |████████████████████████████████| 225kB 25.2MB/s ta 0:00:01\n",
      "\u001b[?25hCollecting ecos>=2 (from cvxpy==1.0.3->-r requirements.txt (line 2))\n",
      "\u001b[?25l  Downloading https://files.pythonhosted.org/packages/b9/3a/59aa93b573a22fda44402383aeddcc2a081c31e61080af3da9d11855c77a/ecos-2.0.7.post1.tar.gz (126kB)\n",
      "\u001b[K    100% |████████████████████████████████| 133kB 35.3MB/s ta 0:00:01\n",
      "\u001b[?25hCollecting scs>=1.1.3 (from cvxpy==1.0.3->-r requirements.txt (line 2))\n",
      "\u001b[?25l  Downloading https://files.pythonhosted.org/packages/f0/31/3177a8baf866c7c1e54a68510ef171752c3095450aa004e195f011339cc9/scs-2.0.2-cp35-cp35m-macosx_10_6_x86_64.whl (84kB)\n",
      "\u001b[K    100% |████████████████████████████████| 92kB 30.0MB/s ta 0:00:01\n",
      "\u001b[?25hCollecting multiprocess (from cvxpy==1.0.3->-r requirements.txt (line 2))\n",
      "\u001b[?25l  Downloading https://files.pythonhosted.org/packages/31/60/6d74caa02b54ca43092e745640c7d98f367f07160441682a01602ce00bc5/multiprocess-0.70.7.tar.gz (1.4MB)\n",
      "\u001b[K    100% |████████████████████████████████| 1.4MB 18.1MB/s ta 0:00:01\n",
      "\u001b[?25hRequirement already satisfied: fastcache in /anaconda3/envs/zipline/lib/python3.5/site-packages (from cvxpy==1.0.3->-r requirements.txt (line 2)) (1.0.2)\n",
      "Requirement already satisfied: toolz in /anaconda3/envs/zipline/lib/python3.5/site-packages (from cvxpy==1.0.3->-r requirements.txt (line 2)) (0.9.0)\n",
      "Requirement already satisfied: decorator>=4.0.6 in /anaconda3/envs/zipline/lib/python3.5/site-packages (from plotly==2.2.3->-r requirements.txt (line 6)) (4.2.1)\n",
      "Requirement already satisfied: nbformat>=4.2 in /anaconda3/envs/zipline/lib/python3.5/site-packages (from plotly==2.2.3->-r requirements.txt (line 6)) (4.4.0)\n",
      "Requirement already satisfied: chardet<3.1.0,>=3.0.2 in /anaconda3/envs/zipline/lib/python3.5/site-packages (from requests==2.18.4->-r requirements.txt (line 10)) (3.0.4)\n",
      "Requirement already satisfied: idna<2.7,>=2.5 in /anaconda3/envs/zipline/lib/python3.5/site-packages (from requests==2.18.4->-r requirements.txt (line 10)) (2.6)\n",
      "Requirement already satisfied: urllib3<1.23,>=1.21.1 in /anaconda3/envs/zipline/lib/python3.5/site-packages (from requests==2.18.4->-r requirements.txt (line 10)) (1.22)\n",
      "Requirement already satisfied: certifi>=2017.4.17 in /anaconda3/envs/zipline/lib/python3.5/site-packages (from requests==2.18.4->-r requirements.txt (line 10)) (2018.8.24)\n",
      "Collecting future (from osqp->cvxpy==1.0.3->-r requirements.txt (line 2))\n",
      "\u001b[?25l  Downloading https://files.pythonhosted.org/packages/90/52/e20466b85000a181e1e144fd8305caf2cf475e2f9674e797b222f8105f5f/future-0.17.1.tar.gz (829kB)\n",
      "\u001b[K    100% |████████████████████████████████| 829kB 18.3MB/s ta 0:00:01\n",
      "\u001b[?25hCollecting dill>=0.2.9 (from multiprocess->cvxpy==1.0.3->-r requirements.txt (line 2))\n",
      "\u001b[?25l  Downloading https://files.pythonhosted.org/packages/fe/42/bfe2e0857bc284cbe6a011d93f2a9ad58a22cb894461b199ae72cfef0f29/dill-0.2.9.tar.gz (150kB)\n",
      "\u001b[K    100% |████████████████████████████████| 153kB 25.1MB/s ta 0:00:01\n",
      "\u001b[?25hRequirement already satisfied: ipython_genutils in /anaconda3/envs/zipline/lib/python3.5/site-packages (from nbformat>=4.2->plotly==2.2.3->-r requirements.txt (line 6)) (0.2.0)\n",
      "Requirement already satisfied: traitlets>=4.1 in /anaconda3/envs/zipline/lib/python3.5/site-packages (from nbformat>=4.2->plotly==2.2.3->-r requirements.txt (line 6)) (4.3.2)\n",
      "Requirement already satisfied: jsonschema!=2.5.0,>=2.4 in /anaconda3/envs/zipline/lib/python3.5/site-packages (from nbformat>=4.2->plotly==2.2.3->-r requirements.txt (line 6)) (2.6.0)\n",
      "Requirement already satisfied: jupyter_core in /anaconda3/envs/zipline/lib/python3.5/site-packages (from nbformat>=4.2->plotly==2.2.3->-r requirements.txt (line 6)) (4.4.0)\n",
      "Building wheels for collected packages: cvxpy, plotly, ecos, multiprocess, future, dill\n",
      "  Building wheel for cvxpy (setup.py) ... \u001b[?25lerror\n",
      "  Complete output from command /anaconda3/envs/zipline/bin/python -u -c \"import setuptools, tokenize;__file__='/private/var/folders/nr/9n_jv63d2kj126c8f23bzk840000gn/T/pip-install-08yd5m1s/cvxpy/setup.py';f=getattr(tokenize, 'open', open)(__file__);code=f.read().replace('\\r\\n', '\\n');f.close();exec(compile(code, __file__, 'exec'))\" bdist_wheel -d /private/var/folders/nr/9n_jv63d2kj126c8f23bzk840000gn/T/pip-wheel-t6wbeckk --python-tag cp35:\n",
      "  running bdist_wheel\n",
      "  running build\n",
      "  running build_py\n",
      "  creating build\n",
      "  creating build/lib.macosx-10.6-x86_64-3.5\n",
      "  creating build/lib.macosx-10.6-x86_64-3.5/cvxpy\n",
      "  copying cvxpy/error.py -> build/lib.macosx-10.6-x86_64-3.5/cvxpy\n",
      "  copying cvxpy/__init__.py -> build/lib.macosx-10.6-x86_64-3.5/cvxpy\n",
      "  copying cvxpy/settings.py -> build/lib.macosx-10.6-x86_64-3.5/cvxpy\n",
      "  creating build/lib.macosx-10.6-x86_64-3.5/cvxpy/atoms\n",
      "  copying cvxpy/atoms/max.py -> build/lib.macosx-10.6-x86_64-3.5/cvxpy/atoms\n",
      "  copying cvxpy/atoms/cummax.py -> build/lib.macosx-10.6-x86_64-3.5/cvxpy/atoms\n",
      "  copying cvxpy/atoms/matrix_frac.py -> build/lib.macosx-10.6-x86_64-3.5/cvxpy/atoms\n",
      "  copying cvxpy/atoms/lambda_max.py -> build/lib.macosx-10.6-x86_64-3.5/cvxpy/atoms\n",
      "  copying cvxpy/atoms/sigma_max.py -> build/lib.macosx-10.6-x86_64-3.5/cvxpy/atoms\n",
      "  copying cvxpy/atoms/total_variation.py -> build/lib.macosx-10.6-x86_64-3.5/cvxpy/atoms\n",
      "  copying cvxpy/atoms/sum_smallest.py -> build/lib.macosx-10.6-x86_64-3.5/cvxpy/atoms\n",
      "  copying cvxpy/atoms/norm1.py -> build/lib.macosx-10.6-x86_64-3.5/cvxpy/atoms\n",
      "  copying cvxpy/atoms/lambda_sum_smallest.py -> build/lib.macosx-10.6-x86_64-3.5/cvxpy/atoms\n",
      "  copying cvxpy/atoms/norm.py -> build/lib.macosx-10.6-x86_64-3.5/cvxpy/atoms\n",
      "  copying cvxpy/atoms/pnorm.py -> build/lib.macosx-10.6-x86_64-3.5/cvxpy/atoms\n",
      "  copying cvxpy/atoms/__init__.py -> build/lib.macosx-10.6-x86_64-3.5/cvxpy/atoms\n",
      "  copying cvxpy/atoms/sum_largest.py -> build/lib.macosx-10.6-x86_64-3.5/cvxpy/atoms\n",
      "  copying cvxpy/atoms/lambda_sum_largest.py -> build/lib.macosx-10.6-x86_64-3.5/cvxpy/atoms\n",
      "  copying cvxpy/atoms/sum_squares.py -> build/lib.macosx-10.6-x86_64-3.5/cvxpy/atoms\n",
      "  copying cvxpy/atoms/log_sum_exp.py -> build/lib.macosx-10.6-x86_64-3.5/cvxpy/atoms\n",
      "  copying cvxpy/atoms/norm_nuc.py -> build/lib.macosx-10.6-x86_64-3.5/cvxpy/atoms\n",
      "  copying cvxpy/atoms/mixed_norm.py -> build/lib.macosx-10.6-x86_64-3.5/cvxpy/atoms\n",
      "  copying cvxpy/atoms/min.py -> build/lib.macosx-10.6-x86_64-3.5/cvxpy/atoms\n",
      "  copying cvxpy/atoms/quad_over_lin.py -> build/lib.macosx-10.6-x86_64-3.5/cvxpy/atoms\n",
      "  copying cvxpy/atoms/geo_mean.py -> build/lib.macosx-10.6-x86_64-3.5/cvxpy/atoms\n",
      "  copying cvxpy/atoms/axis_atom.py -> build/lib.macosx-10.6-x86_64-3.5/cvxpy/atoms\n",
      "  copying cvxpy/atoms/lambda_min.py -> build/lib.macosx-10.6-x86_64-3.5/cvxpy/atoms\n",
      "  copying cvxpy/atoms/norm_inf.py -> build/lib.macosx-10.6-x86_64-3.5/cvxpy/atoms\n",
      "  copying cvxpy/atoms/quad_form.py -> build/lib.macosx-10.6-x86_64-3.5/cvxpy/atoms\n",
      "  copying cvxpy/atoms/log_det.py -> build/lib.macosx-10.6-x86_64-3.5/cvxpy/atoms\n",
      "  copying cvxpy/atoms/harmonic_mean.py -> build/lib.macosx-10.6-x86_64-3.5/cvxpy/atoms\n",
      "  copying cvxpy/atoms/atom.py -> build/lib.macosx-10.6-x86_64-3.5/cvxpy/atoms\n",
      "  creating build/lib.macosx-10.6-x86_64-3.5/cvxpy/atoms/affine\n",
      "  copying cvxpy/atoms/affine/vec.py -> build/lib.macosx-10.6-x86_64-3.5/cvxpy/atoms/affine\n",
      "  copying cvxpy/atoms/affine/trace.py -> build/lib.macosx-10.6-x86_64-3.5/cvxpy/atoms/affine\n",
      "  copying cvxpy/atoms/affine/unary_operators.py -> build/lib.macosx-10.6-x86_64-3.5/cvxpy/atoms/affine\n",
      "  copying cvxpy/atoms/affine/vstack.py -> build/lib.macosx-10.6-x86_64-3.5/cvxpy/atoms/affine\n",
      "  copying cvxpy/atoms/affine/affine_atom.py -> build/lib.macosx-10.6-x86_64-3.5/cvxpy/atoms/affine\n",
      "  copying cvxpy/atoms/affine/index.py -> build/lib.macosx-10.6-x86_64-3.5/cvxpy/atoms/affine\n",
      "  copying cvxpy/atoms/affine/upper_tri.py -> build/lib.macosx-10.6-x86_64-3.5/cvxpy/atoms/affine\n",
      "  copying cvxpy/atoms/affine/binary_operators.py -> build/lib.macosx-10.6-x86_64-3.5/cvxpy/atoms/affine\n",
      "  copying cvxpy/atoms/affine/hstack.py -> build/lib.macosx-10.6-x86_64-3.5/cvxpy/atoms/affine\n",
      "  copying cvxpy/atoms/affine/reshape.py -> build/lib.macosx-10.6-x86_64-3.5/cvxpy/atoms/affine\n",
      "  copying cvxpy/atoms/affine/bmat.py -> build/lib.macosx-10.6-x86_64-3.5/cvxpy/atoms/affine\n",
      "  copying cvxpy/atoms/affine/__init__.py -> build/lib.macosx-10.6-x86_64-3.5/cvxpy/atoms/affine\n",
      "  copying cvxpy/atoms/affine/promote.py -> build/lib.macosx-10.6-x86_64-3.5/cvxpy/atoms/affine\n",
      "  copying cvxpy/atoms/affine/real.py -> build/lib.macosx-10.6-x86_64-3.5/cvxpy/atoms/affine\n",
      "  copying cvxpy/atoms/affine/kron.py -> build/lib.macosx-10.6-x86_64-3.5/cvxpy/atoms/affine\n",
      "  copying cvxpy/atoms/affine/imag.py -> build/lib.macosx-10.6-x86_64-3.5/cvxpy/atoms/affine\n",
      "  copying cvxpy/atoms/affine/transpose.py -> build/lib.macosx-10.6-x86_64-3.5/cvxpy/atoms/affine\n",
      "  copying cvxpy/atoms/affine/diag.py -> build/lib.macosx-10.6-x86_64-3.5/cvxpy/atoms/affine\n",
      "  copying cvxpy/atoms/affine/add_expr.py -> build/lib.macosx-10.6-x86_64-3.5/cvxpy/atoms/affine\n",
      "  copying cvxpy/atoms/affine/diff.py -> build/lib.macosx-10.6-x86_64-3.5/cvxpy/atoms/affine\n",
      "  copying cvxpy/atoms/affine/sum.py -> build/lib.macosx-10.6-x86_64-3.5/cvxpy/atoms/affine\n",
      "  copying cvxpy/atoms/affine/conv.py -> build/lib.macosx-10.6-x86_64-3.5/cvxpy/atoms/affine\n",
      "  copying cvxpy/atoms/affine/cumsum.py -> build/lib.macosx-10.6-x86_64-3.5/cvxpy/atoms/affine\n",
      "  copying cvxpy/atoms/affine/conj.py -> build/lib.macosx-10.6-x86_64-3.5/cvxpy/atoms/affine\n",
      "  creating build/lib.macosx-10.6-x86_64-3.5/cvxpy/atoms/elementwise\n",
      "  copying cvxpy/atoms/elementwise/kl_div.py -> build/lib.macosx-10.6-x86_64-3.5/cvxpy/atoms/elementwise\n",
      "  copying cvxpy/atoms/elementwise/pos.py -> build/lib.macosx-10.6-x86_64-3.5/cvxpy/atoms/elementwise\n",
      "  copying cvxpy/atoms/elementwise/neg.py -> build/lib.macosx-10.6-x86_64-3.5/cvxpy/atoms/elementwise\n",
      "  copying cvxpy/atoms/elementwise/sqrt.py -> build/lib.macosx-10.6-x86_64-3.5/cvxpy/atoms/elementwise\n",
      "  copying cvxpy/atoms/elementwise/entr.py -> build/lib.macosx-10.6-x86_64-3.5/cvxpy/atoms/elementwise\n",
      "  copying cvxpy/atoms/elementwise/log.py -> build/lib.macosx-10.6-x86_64-3.5/cvxpy/atoms/elementwise\n",
      "  copying cvxpy/atoms/elementwise/logistic.py -> build/lib.macosx-10.6-x86_64-3.5/cvxpy/atoms/elementwise\n",
      "  copying cvxpy/atoms/elementwise/elementwise.py -> build/lib.macosx-10.6-x86_64-3.5/cvxpy/atoms/elementwise\n",
      "  copying cvxpy/atoms/elementwise/abs.py -> build/lib.macosx-10.6-x86_64-3.5/cvxpy/atoms/elementwise\n",
      "  copying cvxpy/atoms/elementwise/__init__.py -> build/lib.macosx-10.6-x86_64-3.5/cvxpy/atoms/elementwise\n",
      "  copying cvxpy/atoms/elementwise/maximum.py -> build/lib.macosx-10.6-x86_64-3.5/cvxpy/atoms/elementwise\n",
      "  copying cvxpy/atoms/elementwise/minimum.py -> build/lib.macosx-10.6-x86_64-3.5/cvxpy/atoms/elementwise\n",
      "  copying cvxpy/atoms/elementwise/huber.py -> build/lib.macosx-10.6-x86_64-3.5/cvxpy/atoms/elementwise\n",
      "  copying cvxpy/atoms/elementwise/scalene.py -> build/lib.macosx-10.6-x86_64-3.5/cvxpy/atoms/elementwise\n",
      "  copying cvxpy/atoms/elementwise/square.py -> build/lib.macosx-10.6-x86_64-3.5/cvxpy/atoms/elementwise\n",
      "  copying cvxpy/atoms/elementwise/inv_pos.py -> build/lib.macosx-10.6-x86_64-3.5/cvxpy/atoms/elementwise\n",
      "  copying cvxpy/atoms/elementwise/exp.py -> build/lib.macosx-10.6-x86_64-3.5/cvxpy/atoms/elementwise\n",
      "  copying cvxpy/atoms/elementwise/log1p.py -> build/lib.macosx-10.6-x86_64-3.5/cvxpy/atoms/elementwise\n",
      "  copying cvxpy/atoms/elementwise/power.py -> build/lib.macosx-10.6-x86_64-3.5/cvxpy/atoms/elementwise\n",
      "  creating build/lib.macosx-10.6-x86_64-3.5/cvxpy/cvxcore\n",
      "  copying cvxpy/cvxcore/__init__.py -> build/lib.macosx-10.6-x86_64-3.5/cvxpy/cvxcore\n",
      "  creating build/lib.macosx-10.6-x86_64-3.5/cvxpy/cvxcore/python\n",
      "  copying cvxpy/cvxcore/python/canonInterface.py -> build/lib.macosx-10.6-x86_64-3.5/cvxpy/cvxcore/python\n",
      "  copying cvxpy/cvxcore/python/__init__.py -> build/lib.macosx-10.6-x86_64-3.5/cvxpy/cvxcore/python\n",
      "  copying cvxpy/cvxcore/python/cvxcore.py -> build/lib.macosx-10.6-x86_64-3.5/cvxpy/cvxcore/python\n",
      "  creating build/lib.macosx-10.6-x86_64-3.5/cvxpy/constraints\n",
      "  copying cvxpy/constraints/constraint.py -> build/lib.macosx-10.6-x86_64-3.5/cvxpy/constraints\n",
      "  copying cvxpy/constraints/nonlinear.py -> build/lib.macosx-10.6-x86_64-3.5/cvxpy/constraints\n",
      "  copying cvxpy/constraints/__init__.py -> build/lib.macosx-10.6-x86_64-3.5/cvxpy/constraints\n",
      "  copying cvxpy/constraints/second_order.py -> build/lib.macosx-10.6-x86_64-3.5/cvxpy/constraints\n",
      "  copying cvxpy/constraints/exponential.py -> build/lib.macosx-10.6-x86_64-3.5/cvxpy/constraints\n",
      "  copying cvxpy/constraints/zero.py -> build/lib.macosx-10.6-x86_64-3.5/cvxpy/constraints\n",
      "  copying cvxpy/constraints/nonpos.py -> build/lib.macosx-10.6-x86_64-3.5/cvxpy/constraints\n",
      "  copying cvxpy/constraints/soc_axis.py -> build/lib.macosx-10.6-x86_64-3.5/cvxpy/constraints\n",
      "  copying cvxpy/constraints/psd.py -> build/lib.macosx-10.6-x86_64-3.5/cvxpy/constraints\n",
      "  copying cvxpy/constraints/utilities.py -> build/lib.macosx-10.6-x86_64-3.5/cvxpy/constraints\n",
      "  creating build/lib.macosx-10.6-x86_64-3.5/cvxpy/expressions\n",
      "  copying cvxpy/expressions/cvxtypes.py -> build/lib.macosx-10.6-x86_64-3.5/cvxpy/expressions\n",
      "  copying cvxpy/expressions/leaf.py -> build/lib.macosx-10.6-x86_64-3.5/cvxpy/expressions\n",
      "  copying cvxpy/expressions/__init__.py -> build/lib.macosx-10.6-x86_64-3.5/cvxpy/expressions\n",
      "  copying cvxpy/expressions/variable.py -> build/lib.macosx-10.6-x86_64-3.5/cvxpy/expressions\n",
      "  copying cvxpy/expressions/expression.py -> build/lib.macosx-10.6-x86_64-3.5/cvxpy/expressions\n",
      "  creating build/lib.macosx-10.6-x86_64-3.5/cvxpy/expressions/constants\n",
      "  copying cvxpy/expressions/constants/__init__.py -> build/lib.macosx-10.6-x86_64-3.5/cvxpy/expressions/constants\n",
      "  copying cvxpy/expressions/constants/callback_param.py -> build/lib.macosx-10.6-x86_64-3.5/cvxpy/expressions/constants\n",
      "  copying cvxpy/expressions/constants/constant.py -> build/lib.macosx-10.6-x86_64-3.5/cvxpy/expressions/constants\n",
      "  copying cvxpy/expressions/constants/parameter.py -> build/lib.macosx-10.6-x86_64-3.5/cvxpy/expressions/constants\n",
      "  creating build/lib.macosx-10.6-x86_64-3.5/cvxpy/interface\n",
      "  copying cvxpy/interface/base_matrix_interface.py -> build/lib.macosx-10.6-x86_64-3.5/cvxpy/interface\n",
      "  copying cvxpy/interface/__init__.py -> build/lib.macosx-10.6-x86_64-3.5/cvxpy/interface\n",
      "  copying cvxpy/interface/scipy_wrapper.py -> build/lib.macosx-10.6-x86_64-3.5/cvxpy/interface\n",
      "  copying cvxpy/interface/matrix_utilities.py -> build/lib.macosx-10.6-x86_64-3.5/cvxpy/interface\n",
      "  creating build/lib.macosx-10.6-x86_64-3.5/cvxpy/interface/numpy_interface\n",
      "  copying cvxpy/interface/numpy_interface/matrix_interface.py -> build/lib.macosx-10.6-x86_64-3.5/cvxpy/interface/numpy_interface\n",
      "  copying cvxpy/interface/numpy_interface/sparse_matrix_interface.py -> build/lib.macosx-10.6-x86_64-3.5/cvxpy/interface/numpy_interface\n",
      "  copying cvxpy/interface/numpy_interface/__init__.py -> build/lib.macosx-10.6-x86_64-3.5/cvxpy/interface/numpy_interface\n",
      "  copying cvxpy/interface/numpy_interface/ndarray_interface.py -> build/lib.macosx-10.6-x86_64-3.5/cvxpy/interface/numpy_interface\n",
      "  creating build/lib.macosx-10.6-x86_64-3.5/cvxpy/lin_ops\n",
      "  copying cvxpy/lin_ops/__init__.py -> build/lib.macosx-10.6-x86_64-3.5/cvxpy/lin_ops\n",
      "  copying cvxpy/lin_ops/lin_op.py -> build/lib.macosx-10.6-x86_64-3.5/cvxpy/lin_ops\n",
      "  copying cvxpy/lin_ops/lin_constraints.py -> build/lib.macosx-10.6-x86_64-3.5/cvxpy/lin_ops\n",
      "  copying cvxpy/lin_ops/lin_utils.py -> build/lib.macosx-10.6-x86_64-3.5/cvxpy/lin_ops\n",
      "  copying cvxpy/lin_ops/tree_mat.py -> build/lib.macosx-10.6-x86_64-3.5/cvxpy/lin_ops\n",
      "  creating build/lib.macosx-10.6-x86_64-3.5/cvxpy/problems\n",
      "  copying cvxpy/problems/kktsolver.py -> build/lib.macosx-10.6-x86_64-3.5/cvxpy/problems\n",
      "  copying cvxpy/problems/objective.py -> build/lib.macosx-10.6-x86_64-3.5/cvxpy/problems\n",
      "  copying cvxpy/problems/xpress_problem.py -> build/lib.macosx-10.6-x86_64-3.5/cvxpy/problems\n",
      "  copying cvxpy/problems/__init__.py -> build/lib.macosx-10.6-x86_64-3.5/cvxpy/problems\n",
      "  copying cvxpy/problems/problem.py -> build/lib.macosx-10.6-x86_64-3.5/cvxpy/problems\n",
      "  copying cvxpy/problems/iterative.py -> build/lib.macosx-10.6-x86_64-3.5/cvxpy/problems\n",
      "  creating build/lib.macosx-10.6-x86_64-3.5/cvxpy/problems/problem_data\n",
      "  copying cvxpy/problems/problem_data/problem_data.py -> build/lib.macosx-10.6-x86_64-3.5/cvxpy/problems/problem_data\n",
      "  copying cvxpy/problems/problem_data/sym_data.py -> build/lib.macosx-10.6-x86_64-3.5/cvxpy/problems/problem_data\n",
      "  copying cvxpy/problems/problem_data/__init__.py -> build/lib.macosx-10.6-x86_64-3.5/cvxpy/problems/problem_data\n",
      "  copying cvxpy/problems/problem_data/compr_matrix.py -> build/lib.macosx-10.6-x86_64-3.5/cvxpy/problems/problem_data\n",
      "  copying cvxpy/problems/problem_data/matrix_data.py -> build/lib.macosx-10.6-x86_64-3.5/cvxpy/problems/problem_data\n",
      "  creating build/lib.macosx-10.6-x86_64-3.5/cvxpy/problems/solvers\n",
      "  copying cvxpy/problems/solvers/ecos_intf.py -> build/lib.macosx-10.6-x86_64-3.5/cvxpy/problems/solvers\n",
      "  copying cvxpy/problems/solvers/glpk_mi_intf.py -> build/lib.macosx-10.6-x86_64-3.5/cvxpy/problems/solvers\n",
      "  copying cvxpy/problems/solvers/glpk_intf.py -> build/lib.macosx-10.6-x86_64-3.5/cvxpy/problems/solvers\n",
      "  copying cvxpy/problems/solvers/solver.py -> build/lib.macosx-10.6-x86_64-3.5/cvxpy/problems/solvers\n",
      "  copying cvxpy/problems/solvers/gurobi_intf.py -> build/lib.macosx-10.6-x86_64-3.5/cvxpy/problems/solvers\n",
      "  copying cvxpy/problems/solvers/xpress_intf.py -> build/lib.macosx-10.6-x86_64-3.5/cvxpy/problems/solvers\n",
      "  copying cvxpy/problems/solvers/cbc_intf.py -> build/lib.macosx-10.6-x86_64-3.5/cvxpy/problems/solvers\n",
      "  copying cvxpy/problems/solvers/__init__.py -> build/lib.macosx-10.6-x86_64-3.5/cvxpy/problems/solvers\n",
      "  copying cvxpy/problems/solvers/cvxopt_intf.py -> build/lib.macosx-10.6-x86_64-3.5/cvxpy/problems/solvers\n",
      "  creating build/lib.macosx-10.6-x86_64-3.5/cvxpy/reductions\n",
      "  copying cvxpy/reductions/cvx_attr2constr.py -> build/lib.macosx-10.6-x86_64-3.5/cvxpy/reductions\n",
      "  copying cvxpy/reductions/canonicalization.py -> build/lib.macosx-10.6-x86_64-3.5/cvxpy/reductions\n",
      "  copying cvxpy/reductions/reduction.py -> build/lib.macosx-10.6-x86_64-3.5/cvxpy/reductions\n",
      "  copying cvxpy/reductions/chain.py -> build/lib.macosx-10.6-x86_64-3.5/cvxpy/reductions\n",
      "  copying cvxpy/reductions/solution.py -> build/lib.macosx-10.6-x86_64-3.5/cvxpy/reductions\n",
      "  copying cvxpy/reductions/__init__.py -> build/lib.macosx-10.6-x86_64-3.5/cvxpy/reductions\n",
      "  copying cvxpy/reductions/inverse_data.py -> build/lib.macosx-10.6-x86_64-3.5/cvxpy/reductions\n",
      "  copying cvxpy/reductions/eval_params.py -> build/lib.macosx-10.6-x86_64-3.5/cvxpy/reductions\n",
      "  copying cvxpy/reductions/matrix_stuffing.py -> build/lib.macosx-10.6-x86_64-3.5/cvxpy/reductions\n",
      "  copying cvxpy/reductions/utilities.py -> build/lib.macosx-10.6-x86_64-3.5/cvxpy/reductions\n",
      "  copying cvxpy/reductions/flip_objective.py -> build/lib.macosx-10.6-x86_64-3.5/cvxpy/reductions\n",
      "  creating build/lib.macosx-10.6-x86_64-3.5/cvxpy/reductions/complex2real\n",
      "  copying cvxpy/reductions/complex2real/complex2real.py -> build/lib.macosx-10.6-x86_64-3.5/cvxpy/reductions/complex2real\n",
      "  copying cvxpy/reductions/complex2real/__init__.py -> build/lib.macosx-10.6-x86_64-3.5/cvxpy/reductions/complex2real\n",
      "  creating build/lib.macosx-10.6-x86_64-3.5/cvxpy/reductions/complex2real/atom_canonicalizers\n",
      "  copying cvxpy/reductions/complex2real/atom_canonicalizers/constant_canon.py -> build/lib.macosx-10.6-x86_64-3.5/cvxpy/reductions/complex2real/atom_canonicalizers\n",
      "  copying cvxpy/reductions/complex2real/atom_canonicalizers/variable_canon.py -> build/lib.macosx-10.6-x86_64-3.5/cvxpy/reductions/complex2real/atom_canonicalizers\n",
      "  copying cvxpy/reductions/complex2real/atom_canonicalizers/__init__.py -> build/lib.macosx-10.6-x86_64-3.5/cvxpy/reductions/complex2real/atom_canonicalizers\n",
      "  copying cvxpy/reductions/complex2real/atom_canonicalizers/aff_canon.py -> build/lib.macosx-10.6-x86_64-3.5/cvxpy/reductions/complex2real/atom_canonicalizers\n",
      "  copying cvxpy/reductions/complex2real/atom_canonicalizers/pnorm_canon.py -> build/lib.macosx-10.6-x86_64-3.5/cvxpy/reductions/complex2real/atom_canonicalizers\n",
      "  copying cvxpy/reductions/complex2real/atom_canonicalizers/matrix_canon.py -> build/lib.macosx-10.6-x86_64-3.5/cvxpy/reductions/complex2real/atom_canonicalizers\n",
      "  copying cvxpy/reductions/complex2real/atom_canonicalizers/zero_canon.py -> build/lib.macosx-10.6-x86_64-3.5/cvxpy/reductions/complex2real/atom_canonicalizers\n",
      "  copying cvxpy/reductions/complex2real/atom_canonicalizers/abs_canon.py -> build/lib.macosx-10.6-x86_64-3.5/cvxpy/reductions/complex2real/atom_canonicalizers\n",
      "  creating build/lib.macosx-10.6-x86_64-3.5/cvxpy/reductions/dcp2cone\n",
      "  copying cvxpy/reductions/dcp2cone/__init__.py -> build/lib.macosx-10.6-x86_64-3.5/cvxpy/reductions/dcp2cone\n",
      "  copying cvxpy/reductions/dcp2cone/cone_matrix_stuffing.py -> build/lib.macosx-10.6-x86_64-3.5/cvxpy/reductions/dcp2cone\n",
      "  copying cvxpy/reductions/dcp2cone/dcp2cone.py -> build/lib.macosx-10.6-x86_64-3.5/cvxpy/reductions/dcp2cone\n",
      "  creating build/lib.macosx-10.6-x86_64-3.5/cvxpy/reductions/dcp2cone/atom_canonicalizers\n",
      "  copying cvxpy/reductions/dcp2cone/atom_canonicalizers/quad_form_canon.py -> build/lib.macosx-10.6-x86_64-3.5/cvxpy/reductions/dcp2cone/atom_canonicalizers\n",
      "  copying cvxpy/reductions/dcp2cone/atom_canonicalizers/log1p_canon.py -> build/lib.macosx-10.6-x86_64-3.5/cvxpy/reductions/dcp2cone/atom_canonicalizers\n",
      "  copying cvxpy/reductions/dcp2cone/atom_canonicalizers/log_det_canon.py -> build/lib.macosx-10.6-x86_64-3.5/cvxpy/reductions/dcp2cone/atom_canonicalizers\n",
      "  copying cvxpy/reductions/dcp2cone/atom_canonicalizers/geo_mean_canon.py -> build/lib.macosx-10.6-x86_64-3.5/cvxpy/reductions/dcp2cone/atom_canonicalizers\n",
      "  copying cvxpy/reductions/dcp2cone/atom_canonicalizers/exp_canon.py -> build/lib.macosx-10.6-x86_64-3.5/cvxpy/reductions/dcp2cone/atom_canonicalizers\n",
      "  copying cvxpy/reductions/dcp2cone/atom_canonicalizers/quad_over_lin_canon.py -> build/lib.macosx-10.6-x86_64-3.5/cvxpy/reductions/dcp2cone/atom_canonicalizers\n",
      "  copying cvxpy/reductions/dcp2cone/atom_canonicalizers/power_canon.py -> build/lib.macosx-10.6-x86_64-3.5/cvxpy/reductions/dcp2cone/atom_canonicalizers\n",
      "  copying cvxpy/reductions/dcp2cone/atom_canonicalizers/log_sum_exp_canon.py -> build/lib.macosx-10.6-x86_64-3.5/cvxpy/reductions/dcp2cone/atom_canonicalizers\n",
      "  copying cvxpy/reductions/dcp2cone/atom_canonicalizers/__init__.py -> build/lib.macosx-10.6-x86_64-3.5/cvxpy/reductions/dcp2cone/atom_canonicalizers\n",
      "  copying cvxpy/reductions/dcp2cone/atom_canonicalizers/normNuc_canon.py -> build/lib.macosx-10.6-x86_64-3.5/cvxpy/reductions/dcp2cone/atom_canonicalizers\n",
      "  copying cvxpy/reductions/dcp2cone/atom_canonicalizers/logistic_canon.py -> build/lib.macosx-10.6-x86_64-3.5/cvxpy/reductions/dcp2cone/atom_canonicalizers\n",
      "  copying cvxpy/reductions/dcp2cone/atom_canonicalizers/matrix_frac_canon.py -> build/lib.macosx-10.6-x86_64-3.5/cvxpy/reductions/dcp2cone/atom_canonicalizers\n",
      "  copying cvxpy/reductions/dcp2cone/atom_canonicalizers/sigma_max_canon.py -> build/lib.macosx-10.6-x86_64-3.5/cvxpy/reductions/dcp2cone/atom_canonicalizers\n",
      "  copying cvxpy/reductions/dcp2cone/atom_canonicalizers/cumsum_canon.py -> build/lib.macosx-10.6-x86_64-3.5/cvxpy/reductions/dcp2cone/atom_canonicalizers\n",
      "  copying cvxpy/reductions/dcp2cone/atom_canonicalizers/pnorm_canon.py -> build/lib.macosx-10.6-x86_64-3.5/cvxpy/reductions/dcp2cone/atom_canonicalizers\n",
      "  copying cvxpy/reductions/dcp2cone/atom_canonicalizers/lambda_sum_largest_canon.py -> build/lib.macosx-10.6-x86_64-3.5/cvxpy/reductions/dcp2cone/atom_canonicalizers\n",
      "  copying cvxpy/reductions/dcp2cone/atom_canonicalizers/lambda_max_canon.py -> build/lib.macosx-10.6-x86_64-3.5/cvxpy/reductions/dcp2cone/atom_canonicalizers\n",
      "  copying cvxpy/reductions/dcp2cone/atom_canonicalizers/huber_canon.py -> build/lib.macosx-10.6-x86_64-3.5/cvxpy/reductions/dcp2cone/atom_canonicalizers\n",
      "  copying cvxpy/reductions/dcp2cone/atom_canonicalizers/entr_canon.py -> build/lib.macosx-10.6-x86_64-3.5/cvxpy/reductions/dcp2cone/atom_canonicalizers\n",
      "  copying cvxpy/reductions/dcp2cone/atom_canonicalizers/log_canon.py -> build/lib.macosx-10.6-x86_64-3.5/cvxpy/reductions/dcp2cone/atom_canonicalizers\n",
      "  copying cvxpy/reductions/dcp2cone/atom_canonicalizers/indicator_canon.py -> build/lib.macosx-10.6-x86_64-3.5/cvxpy/reductions/dcp2cone/atom_canonicalizers\n",
      "  copying cvxpy/reductions/dcp2cone/atom_canonicalizers/kl_div_canon.py -> build/lib.macosx-10.6-x86_64-3.5/cvxpy/reductions/dcp2cone/atom_canonicalizers\n",
      "  creating build/lib.macosx-10.6-x86_64-3.5/cvxpy/reductions/eliminate_pwl\n",
      "  copying cvxpy/reductions/eliminate_pwl/eliminate_pwl.py -> build/lib.macosx-10.6-x86_64-3.5/cvxpy/reductions/eliminate_pwl\n",
      "  copying cvxpy/reductions/eliminate_pwl/__init__.py -> build/lib.macosx-10.6-x86_64-3.5/cvxpy/reductions/eliminate_pwl\n",
      "  creating build/lib.macosx-10.6-x86_64-3.5/cvxpy/reductions/eliminate_pwl/atom_canonicalizers\n",
      "  copying cvxpy/reductions/eliminate_pwl/atom_canonicalizers/norm1_canon.py -> build/lib.macosx-10.6-x86_64-3.5/cvxpy/reductions/eliminate_pwl/atom_canonicalizers\n",
      "  copying cvxpy/reductions/eliminate_pwl/atom_canonicalizers/__init__.py -> build/lib.macosx-10.6-x86_64-3.5/cvxpy/reductions/eliminate_pwl/atom_canonicalizers\n",
      "  copying cvxpy/reductions/eliminate_pwl/atom_canonicalizers/max_canon.py -> build/lib.macosx-10.6-x86_64-3.5/cvxpy/reductions/eliminate_pwl/atom_canonicalizers\n",
      "  copying cvxpy/reductions/eliminate_pwl/atom_canonicalizers/maximum_canon.py -> build/lib.macosx-10.6-x86_64-3.5/cvxpy/reductions/eliminate_pwl/atom_canonicalizers\n",
      "  copying cvxpy/reductions/eliminate_pwl/atom_canonicalizers/sum_largest_canon.py -> build/lib.macosx-10.6-x86_64-3.5/cvxpy/reductions/eliminate_pwl/atom_canonicalizers\n",
      "  copying cvxpy/reductions/eliminate_pwl/atom_canonicalizers/norm_inf_canon.py -> build/lib.macosx-10.6-x86_64-3.5/cvxpy/reductions/eliminate_pwl/atom_canonicalizers\n",
      "  copying cvxpy/reductions/eliminate_pwl/atom_canonicalizers/abs_canon.py -> build/lib.macosx-10.6-x86_64-3.5/cvxpy/reductions/eliminate_pwl/atom_canonicalizers\n",
      "  creating build/lib.macosx-10.6-x86_64-3.5/cvxpy/reductions/qp2quad_form\n",
      "  copying cvxpy/reductions/qp2quad_form/qp_matrix_stuffing.py -> build/lib.macosx-10.6-x86_64-3.5/cvxpy/reductions/qp2quad_form\n",
      "  copying cvxpy/reductions/qp2quad_form/__init__.py -> build/lib.macosx-10.6-x86_64-3.5/cvxpy/reductions/qp2quad_form\n",
      "  copying cvxpy/reductions/qp2quad_form/qp2symbolic_qp.py -> build/lib.macosx-10.6-x86_64-3.5/cvxpy/reductions/qp2quad_form\n",
      "  creating build/lib.macosx-10.6-x86_64-3.5/cvxpy/reductions/qp2quad_form/atom_canonicalizers\n",
      "  copying cvxpy/reductions/qp2quad_form/atom_canonicalizers/quad_form_canon.py -> build/lib.macosx-10.6-x86_64-3.5/cvxpy/reductions/qp2quad_form/atom_canonicalizers\n",
      "  copying cvxpy/reductions/qp2quad_form/atom_canonicalizers/quad_over_lin_canon.py -> build/lib.macosx-10.6-x86_64-3.5/cvxpy/reductions/qp2quad_form/atom_canonicalizers\n",
      "  copying cvxpy/reductions/qp2quad_form/atom_canonicalizers/power_canon.py -> build/lib.macosx-10.6-x86_64-3.5/cvxpy/reductions/qp2quad_form/atom_canonicalizers\n",
      "  copying cvxpy/reductions/qp2quad_form/atom_canonicalizers/__init__.py -> build/lib.macosx-10.6-x86_64-3.5/cvxpy/reductions/qp2quad_form/atom_canonicalizers\n",
      "  creating build/lib.macosx-10.6-x86_64-3.5/cvxpy/reductions/solvers\n",
      "  copying cvxpy/reductions/solvers/solving_chain.py -> build/lib.macosx-10.6-x86_64-3.5/cvxpy/reductions/solvers\n",
      "  copying cvxpy/reductions/solvers/solver.py -> build/lib.macosx-10.6-x86_64-3.5/cvxpy/reductions/solvers\n",
      "  copying cvxpy/reductions/solvers/__init__.py -> build/lib.macosx-10.6-x86_64-3.5/cvxpy/reductions/solvers\n",
      "  copying cvxpy/reductions/solvers/defines.py -> build/lib.macosx-10.6-x86_64-3.5/cvxpy/reductions/solvers\n",
      "  copying cvxpy/reductions/solvers/constant_solver.py -> build/lib.macosx-10.6-x86_64-3.5/cvxpy/reductions/solvers\n",
      "  copying cvxpy/reductions/solvers/utilities.py -> build/lib.macosx-10.6-x86_64-3.5/cvxpy/reductions/solvers\n",
      "  creating build/lib.macosx-10.6-x86_64-3.5/cvxpy/reductions/solvers/conic_solvers\n",
      "  copying cvxpy/reductions/solvers/conic_solvers/ls_conif.py -> build/lib.macosx-10.6-x86_64-3.5/cvxpy/reductions/solvers/conic_solvers\n",
      "  copying cvxpy/reductions/solvers/conic_solvers/conic_solver.py -> build/lib.macosx-10.6-x86_64-3.5/cvxpy/reductions/solvers/conic_solvers\n",
      "  copying cvxpy/reductions/solvers/conic_solvers/ecos_bb_conif.py -> build/lib.macosx-10.6-x86_64-3.5/cvxpy/reductions/solvers/conic_solvers\n",
      "  copying cvxpy/reductions/solvers/conic_solvers/cbc_conif.py -> build/lib.macosx-10.6-x86_64-3.5/cvxpy/reductions/solvers/conic_solvers\n",
      "  copying cvxpy/reductions/solvers/conic_solvers/elemental_conif.py -> build/lib.macosx-10.6-x86_64-3.5/cvxpy/reductions/solvers/conic_solvers\n",
      "  copying cvxpy/reductions/solvers/conic_solvers/ecos_conif.py -> build/lib.macosx-10.6-x86_64-3.5/cvxpy/reductions/solvers/conic_solvers\n",
      "  copying cvxpy/reductions/solvers/conic_solvers/mosek_conif.py -> build/lib.macosx-10.6-x86_64-3.5/cvxpy/reductions/solvers/conic_solvers\n",
      "  copying cvxpy/reductions/solvers/conic_solvers/scs_conif.py -> build/lib.macosx-10.6-x86_64-3.5/cvxpy/reductions/solvers/conic_solvers\n",
      "  copying cvxpy/reductions/solvers/conic_solvers/__init__.py -> build/lib.macosx-10.6-x86_64-3.5/cvxpy/reductions/solvers/conic_solvers\n",
      "  copying cvxpy/reductions/solvers/conic_solvers/xpress_conif.py -> build/lib.macosx-10.6-x86_64-3.5/cvxpy/reductions/solvers/conic_solvers\n",
      "  copying cvxpy/reductions/solvers/conic_solvers/cvxopt_conif.py -> build/lib.macosx-10.6-x86_64-3.5/cvxpy/reductions/solvers/conic_solvers\n",
      "  copying cvxpy/reductions/solvers/conic_solvers/glpk_mi_conif.py -> build/lib.macosx-10.6-x86_64-3.5/cvxpy/reductions/solvers/conic_solvers\n",
      "  copying cvxpy/reductions/solvers/conic_solvers/glpk_conif.py -> build/lib.macosx-10.6-x86_64-3.5/cvxpy/reductions/solvers/conic_solvers\n",
      "  copying cvxpy/reductions/solvers/conic_solvers/gurobi_conif.py -> build/lib.macosx-10.6-x86_64-3.5/cvxpy/reductions/solvers/conic_solvers\n",
      "  copying cvxpy/reductions/solvers/conic_solvers/julia_opt_conif.py -> build/lib.macosx-10.6-x86_64-3.5/cvxpy/reductions/solvers/conic_solvers\n",
      "  creating build/lib.macosx-10.6-x86_64-3.5/cvxpy/reductions/solvers/qp_solvers\n",
      "  copying cvxpy/reductions/solvers/qp_solvers/osqp_qpif.py -> build/lib.macosx-10.6-x86_64-3.5/cvxpy/reductions/solvers/qp_solvers\n",
      "  copying cvxpy/reductions/solvers/qp_solvers/qp_solver.py -> build/lib.macosx-10.6-x86_64-3.5/cvxpy/reductions/solvers/qp_solvers\n",
      "  copying cvxpy/reductions/solvers/qp_solvers/cplex_qpif.py -> build/lib.macosx-10.6-x86_64-3.5/cvxpy/reductions/solvers/qp_solvers\n",
      "  copying cvxpy/reductions/solvers/qp_solvers/__init__.py -> build/lib.macosx-10.6-x86_64-3.5/cvxpy/reductions/solvers/qp_solvers\n",
      "  copying cvxpy/reductions/solvers/qp_solvers/gurobi_qpif.py -> build/lib.macosx-10.6-x86_64-3.5/cvxpy/reductions/solvers/qp_solvers\n",
      "  creating build/lib.macosx-10.6-x86_64-3.5/cvxpy/reductions/solvers/lp_solvers\n",
      "  copying cvxpy/reductions/solvers/lp_solvers/__init__.py -> build/lib.macosx-10.6-x86_64-3.5/cvxpy/reductions/solvers/lp_solvers\n",
      "  copying cvxpy/reductions/solvers/lp_solvers/cbc_lpif.py -> build/lib.macosx-10.6-x86_64-3.5/cvxpy/reductions/solvers/lp_solvers\n",
      "  creating build/lib.macosx-10.6-x86_64-3.5/cvxpy/tests\n",
      "  copying cvxpy/tests/base_test.py -> build/lib.macosx-10.6-x86_64-3.5/cvxpy/tests\n",
      "  copying cvxpy/tests/test_mip_vars.py -> build/lib.macosx-10.6-x86_64-3.5/cvxpy/tests\n",
      "  copying cvxpy/tests/test_nonlinear_atoms.py -> build/lib.macosx-10.6-x86_64-3.5/cvxpy/tests\n",
      "  copying cvxpy/tests/test_expressions.py -> build/lib.macosx-10.6-x86_64-3.5/cvxpy/tests\n",
      "  copying cvxpy/tests/test_constant_atoms.py -> build/lib.macosx-10.6-x86_64-3.5/cvxpy/tests\n",
      "  copying cvxpy/tests/test_semidefinite_vars.py -> build/lib.macosx-10.6-x86_64-3.5/cvxpy/tests\n",
      "  copying cvxpy/tests/test_shape.py -> build/lib.macosx-10.6-x86_64-3.5/cvxpy/tests\n",
      "  copying cvxpy/tests/test_lin_ops.py -> build/lib.macosx-10.6-x86_64-3.5/cvxpy/tests\n",
      "  copying cvxpy/tests/test_atoms.py -> build/lib.macosx-10.6-x86_64-3.5/cvxpy/tests\n",
      "  copying cvxpy/tests/test_solvers.py -> build/lib.macosx-10.6-x86_64-3.5/cvxpy/tests\n",
      "  copying cvxpy/tests/test_scs.py -> build/lib.macosx-10.6-x86_64-3.5/cvxpy/tests\n",
      "  copying cvxpy/tests/test_objectives.py -> build/lib.macosx-10.6-x86_64-3.5/cvxpy/tests\n",
      "  copying cvxpy/tests/test_convolution.py -> build/lib.macosx-10.6-x86_64-3.5/cvxpy/tests\n",
      "  copying cvxpy/tests/__init__.py -> build/lib.macosx-10.6-x86_64-3.5/cvxpy/tests\n",
      "  copying cvxpy/tests/test_qp.py -> build/lib.macosx-10.6-x86_64-3.5/cvxpy/tests\n",
      "  copying cvxpy/tests/test_mosek_conif.py -> build/lib.macosx-10.6-x86_64-3.5/cvxpy/tests\n",
      "  copying cvxpy/tests/test_matrices.py -> build/lib.macosx-10.6-x86_64-3.5/cvxpy/tests\n",
      "  copying cvxpy/tests/test_cbc.py -> build/lib.macosx-10.6-x86_64-3.5/cvxpy/tests\n",
      "  copying cvxpy/tests/test_non_optimal.py -> build/lib.macosx-10.6-x86_64-3.5/cvxpy/tests\n",
      "  copying cvxpy/tests/test_quad_form.py -> build/lib.macosx-10.6-x86_64-3.5/cvxpy/tests\n",
      "  copying cvxpy/tests/test_constraints.py -> build/lib.macosx-10.6-x86_64-3.5/cvxpy/tests\n",
      "  copying cvxpy/tests/test_monotonicity.py -> build/lib.macosx-10.6-x86_64-3.5/cvxpy/tests\n",
      "  copying cvxpy/tests/test_quadratic.py -> build/lib.macosx-10.6-x86_64-3.5/cvxpy/tests\n",
      "  copying cvxpy/tests/test_domain.py -> build/lib.macosx-10.6-x86_64-3.5/cvxpy/tests\n",
      "  copying cvxpy/tests/test_problem.py -> build/lib.macosx-10.6-x86_64-3.5/cvxpy/tests\n",
      "  copying cvxpy/tests/test_complex.py -> build/lib.macosx-10.6-x86_64-3.5/cvxpy/tests\n",
      "  copying cvxpy/tests/test_linear_cone.py -> build/lib.macosx-10.6-x86_64-3.5/cvxpy/tests\n",
      "  copying cvxpy/tests/test_interfaces.py -> build/lib.macosx-10.6-x86_64-3.5/cvxpy/tests\n",
      "  copying cvxpy/tests/test_curvature.py -> build/lib.macosx-10.6-x86_64-3.5/cvxpy/tests\n",
      "  copying cvxpy/tests/test_elemental.py -> build/lib.macosx-10.6-x86_64-3.5/cvxpy/tests\n",
      "  copying cvxpy/tests/test_julia_opt.py -> build/lib.macosx-10.6-x86_64-3.5/cvxpy/tests\n",
      "  copying cvxpy/tests/test_examples.py -> build/lib.macosx-10.6-x86_64-3.5/cvxpy/tests\n",
      "  copying cvxpy/tests/test_sign.py -> build/lib.macosx-10.6-x86_64-3.5/cvxpy/tests\n",
      "  copying cvxpy/tests/test_grad.py -> build/lib.macosx-10.6-x86_64-3.5/cvxpy/tests\n",
      "  creating build/lib.macosx-10.6-x86_64-3.5/cvxpy/transforms\n",
      "  copying cvxpy/transforms/indicator.py -> build/lib.macosx-10.6-x86_64-3.5/cvxpy/transforms\n",
      "  copying cvxpy/transforms/__init__.py -> build/lib.macosx-10.6-x86_64-3.5/cvxpy/transforms\n",
      "  copying cvxpy/transforms/separable_problems.py -> build/lib.macosx-10.6-x86_64-3.5/cvxpy/transforms\n",
      "  copying cvxpy/transforms/partial_optimize.py -> build/lib.macosx-10.6-x86_64-3.5/cvxpy/transforms\n",
      "  copying cvxpy/transforms/linearize.py -> build/lib.macosx-10.6-x86_64-3.5/cvxpy/transforms\n",
      "  copying cvxpy/transforms/scalarize.py -> build/lib.macosx-10.6-x86_64-3.5/cvxpy/transforms\n",
      "  creating build/lib.macosx-10.6-x86_64-3.5/cvxpy/utilities\n",
      "  copying cvxpy/utilities/cvxpy_upgrade.py -> build/lib.macosx-10.6-x86_64-3.5/cvxpy/utilities\n",
      "  copying cvxpy/utilities/replace_quad_forms.py -> build/lib.macosx-10.6-x86_64-3.5/cvxpy/utilities\n",
      "  copying cvxpy/utilities/power_tools.py -> build/lib.macosx-10.6-x86_64-3.5/cvxpy/utilities\n",
      "  copying cvxpy/utilities/performance_utils.py -> build/lib.macosx-10.6-x86_64-3.5/cvxpy/utilities\n",
      "  copying cvxpy/utilities/__init__.py -> build/lib.macosx-10.6-x86_64-3.5/cvxpy/utilities\n",
      "  copying cvxpy/utilities/key_utils.py -> build/lib.macosx-10.6-x86_64-3.5/cvxpy/utilities\n",
      "  copying cvxpy/utilities/canonical.py -> build/lib.macosx-10.6-x86_64-3.5/cvxpy/utilities\n",
      "  copying cvxpy/utilities/shape.py -> build/lib.macosx-10.6-x86_64-3.5/cvxpy/utilities\n",
      "  copying cvxpy/utilities/sign.py -> build/lib.macosx-10.6-x86_64-3.5/cvxpy/utilities\n",
      "  copying cvxpy/utilities/grad.py -> build/lib.macosx-10.6-x86_64-3.5/cvxpy/utilities\n",
      "  copying cvxpy/utilities/coeff_extractor.py -> build/lib.macosx-10.6-x86_64-3.5/cvxpy/utilities\n",
      "  Fixing build/lib.macosx-10.6-x86_64-3.5/cvxpy/error.py build/lib.macosx-10.6-x86_64-3.5/cvxpy/__init__.py build/lib.macosx-10.6-x86_64-3.5/cvxpy/settings.py build/lib.macosx-10.6-x86_64-3.5/cvxpy/atoms/max.py build/lib.macosx-10.6-x86_64-3.5/cvxpy/atoms/cummax.py build/lib.macosx-10.6-x86_64-3.5/cvxpy/atoms/matrix_frac.py build/lib.macosx-10.6-x86_64-3.5/cvxpy/atoms/lambda_max.py build/lib.macosx-10.6-x86_64-3.5/cvxpy/atoms/sigma_max.py build/lib.macosx-10.6-x86_64-3.5/cvxpy/atoms/total_variation.py build/lib.macosx-10.6-x86_64-3.5/cvxpy/atoms/sum_smallest.py build/lib.macosx-10.6-x86_64-3.5/cvxpy/atoms/norm1.py build/lib.macosx-10.6-x86_64-3.5/cvxpy/atoms/lambda_sum_smallest.py build/lib.macosx-10.6-x86_64-3.5/cvxpy/atoms/norm.py build/lib.macosx-10.6-x86_64-3.5/cvxpy/atoms/pnorm.py build/lib.macosx-10.6-x86_64-3.5/cvxpy/atoms/__init__.py build/lib.macosx-10.6-x86_64-3.5/cvxpy/atoms/sum_largest.py build/lib.macosx-10.6-x86_64-3.5/cvxpy/atoms/lambda_sum_largest.py build/lib.macosx-10.6-x86_64-3.5/cvxpy/atoms/sum_squares.py build/lib.macosx-10.6-x86_64-3.5/cvxpy/atoms/log_sum_exp.py build/lib.macosx-10.6-x86_64-3.5/cvxpy/atoms/norm_nuc.py build/lib.macosx-10.6-x86_64-3.5/cvxpy/atoms/mixed_norm.py build/lib.macosx-10.6-x86_64-3.5/cvxpy/atoms/min.py build/lib.macosx-10.6-x86_64-3.5/cvxpy/atoms/quad_over_lin.py build/lib.macosx-10.6-x86_64-3.5/cvxpy/atoms/geo_mean.py build/lib.macosx-10.6-x86_64-3.5/cvxpy/atoms/axis_atom.py build/lib.macosx-10.6-x86_64-3.5/cvxpy/atoms/lambda_min.py build/lib.macosx-10.6-x86_64-3.5/cvxpy/atoms/norm_inf.py build/lib.macosx-10.6-x86_64-3.5/cvxpy/atoms/quad_form.py build/lib.macosx-10.6-x86_64-3.5/cvxpy/atoms/log_det.py build/lib.macosx-10.6-x86_64-3.5/cvxpy/atoms/harmonic_mean.py build/lib.macosx-10.6-x86_64-3.5/cvxpy/atoms/atom.py build/lib.macosx-10.6-x86_64-3.5/cvxpy/atoms/affine/vec.py build/lib.macosx-10.6-x86_64-3.5/cvxpy/atoms/affine/trace.py build/lib.macosx-10.6-x86_64-3.5/cvxpy/atoms/affine/unary_operators.py build/lib.macosx-10.6-x86_64-3.5/cvxpy/atoms/affine/vstack.py build/lib.macosx-10.6-x86_64-3.5/cvxpy/atoms/affine/affine_atom.py build/lib.macosx-10.6-x86_64-3.5/cvxpy/atoms/affine/index.py build/lib.macosx-10.6-x86_64-3.5/cvxpy/atoms/affine/upper_tri.py build/lib.macosx-10.6-x86_64-3.5/cvxpy/atoms/affine/binary_operators.py build/lib.macosx-10.6-x86_64-3.5/cvxpy/atoms/affine/hstack.py build/lib.macosx-10.6-x86_64-3.5/cvxpy/atoms/affine/reshape.py build/lib.macosx-10.6-x86_64-3.5/cvxpy/atoms/affine/bmat.py build/lib.macosx-10.6-x86_64-3.5/cvxpy/atoms/affine/__init__.py build/lib.macosx-10.6-x86_64-3.5/cvxpy/atoms/affine/promote.py build/lib.macosx-10.6-x86_64-3.5/cvxpy/atoms/affine/real.py build/lib.macosx-10.6-x86_64-3.5/cvxpy/atoms/affine/kron.py build/lib.macosx-10.6-x86_64-3.5/cvxpy/atoms/affine/imag.py build/lib.macosx-10.6-x86_64-3.5/cvxpy/atoms/affine/transpose.py build/lib.macosx-10.6-x86_64-3.5/cvxpy/atoms/affine/diag.py build/lib.macosx-10.6-x86_64-3.5/cvxpy/atoms/affine/add_expr.py build/lib.macosx-10.6-x86_64-3.5/cvxpy/atoms/affine/diff.py build/lib.macosx-10.6-x86_64-3.5/cvxpy/atoms/affine/sum.py build/lib.macosx-10.6-x86_64-3.5/cvxpy/atoms/affine/conv.py build/lib.macosx-10.6-x86_64-3.5/cvxpy/atoms/affine/cumsum.py build/lib.macosx-10.6-x86_64-3.5/cvxpy/atoms/affine/conj.py build/lib.macosx-10.6-x86_64-3.5/cvxpy/atoms/elementwise/kl_div.py build/lib.macosx-10.6-x86_64-3.5/cvxpy/atoms/elementwise/pos.py build/lib.macosx-10.6-x86_64-3.5/cvxpy/atoms/elementwise/neg.py build/lib.macosx-10.6-x86_64-3.5/cvxpy/atoms/elementwise/sqrt.py build/lib.macosx-10.6-x86_64-3.5/cvxpy/atoms/elementwise/entr.py build/lib.macosx-10.6-x86_64-3.5/cvxpy/atoms/elementwise/log.py build/lib.macosx-10.6-x86_64-3.5/cvxpy/atoms/elementwise/logistic.py build/lib.macosx-10.6-x86_64-3.5/cvxpy/atoms/elementwise/elementwise.py build/lib.macosx-10.6-x86_64-3.5/cvxpy/atoms/elementwise/abs.py build/lib.macosx-10.6-x86_64-3.5/cvxpy/atoms/elementwise/__init__.py build/lib.macosx-10.6-x86_64-3.5/cvxpy/atoms/elementwise/maximum.py build/lib.macosx-10.6-x86_64-3.5/cvxpy/atoms/elementwise/minimum.py build/lib.macosx-10.6-x86_64-3.5/cvxpy/atoms/elementwise/huber.py build/lib.macosx-10.6-x86_64-3.5/cvxpy/atoms/elementwise/scalene.py build/lib.macosx-10.6-x86_64-3.5/cvxpy/atoms/elementwise/square.py build/lib.macosx-10.6-x86_64-3.5/cvxpy/atoms/elementwise/inv_pos.py build/lib.macosx-10.6-x86_64-3.5/cvxpy/atoms/elementwise/exp.py build/lib.macosx-10.6-x86_64-3.5/cvxpy/atoms/elementwise/log1p.py build/lib.macosx-10.6-x86_64-3.5/cvxpy/atoms/elementwise/power.py build/lib.macosx-10.6-x86_64-3.5/cvxpy/cvxcore/__init__.py build/lib.macosx-10.6-x86_64-3.5/cvxpy/cvxcore/python/canonInterface.py build/lib.macosx-10.6-x86_64-3.5/cvxpy/cvxcore/python/__init__.py build/lib.macosx-10.6-x86_64-3.5/cvxpy/cvxcore/python/cvxcore.py build/lib.macosx-10.6-x86_64-3.5/cvxpy/constraints/constraint.py build/lib.macosx-10.6-x86_64-3.5/cvxpy/constraints/nonlinear.py build/lib.macosx-10.6-x86_64-3.5/cvxpy/constraints/__init__.py build/lib.macosx-10.6-x86_64-3.5/cvxpy/constraints/second_order.py build/lib.macosx-10.6-x86_64-3.5/cvxpy/constraints/exponential.py build/lib.macosx-10.6-x86_64-3.5/cvxpy/constraints/zero.py build/lib.macosx-10.6-x86_64-3.5/cvxpy/constraints/nonpos.py build/lib.macosx-10.6-x86_64-3.5/cvxpy/constraints/soc_axis.py build/lib.macosx-10.6-x86_64-3.5/cvxpy/constraints/psd.py build/lib.macosx-10.6-x86_64-3.5/cvxpy/constraints/utilities.py build/lib.macosx-10.6-x86_64-3.5/cvxpy/expressions/cvxtypes.py build/lib.macosx-10.6-x86_64-3.5/cvxpy/expressions/leaf.py build/lib.macosx-10.6-x86_64-3.5/cvxpy/expressions/__init__.py build/lib.macosx-10.6-x86_64-3.5/cvxpy/expressions/variable.py build/lib.macosx-10.6-x86_64-3.5/cvxpy/expressions/expression.py build/lib.macosx-10.6-x86_64-3.5/cvxpy/expressions/constants/__init__.py build/lib.macosx-10.6-x86_64-3.5/cvxpy/expressions/constants/callback_param.py build/lib.macosx-10.6-x86_64-3.5/cvxpy/expressions/constants/constant.py build/lib.macosx-10.6-x86_64-3.5/cvxpy/expressions/constants/parameter.py build/lib.macosx-10.6-x86_64-3.5/cvxpy/interface/base_matrix_interface.py build/lib.macosx-10.6-x86_64-3.5/cvxpy/interface/__init__.py build/lib.macosx-10.6-x86_64-3.5/cvxpy/interface/scipy_wrapper.py build/lib.macosx-10.6-x86_64-3.5/cvxpy/interface/matrix_utilities.py build/lib.macosx-10.6-x86_64-3.5/cvxpy/interface/numpy_interface/matrix_interface.py build/lib.macosx-10.6-x86_64-3.5/cvxpy/interface/numpy_interface/sparse_matrix_interface.py build/lib.macosx-10.6-x86_64-3.5/cvxpy/interface/numpy_interface/__init__.py build/lib.macosx-10.6-x86_64-3.5/cvxpy/interface/numpy_interface/ndarray_interface.py build/lib.macosx-10.6-x86_64-3.5/cvxpy/lin_ops/__init__.py build/lib.macosx-10.6-x86_64-3.5/cvxpy/lin_ops/lin_op.py build/lib.macosx-10.6-x86_64-3.5/cvxpy/lin_ops/lin_constraints.py build/lib.macosx-10.6-x86_64-3.5/cvxpy/lin_ops/lin_utils.py build/lib.macosx-10.6-x86_64-3.5/cvxpy/lin_ops/tree_mat.py build/lib.macosx-10.6-x86_64-3.5/cvxpy/problems/kktsolver.py build/lib.macosx-10.6-x86_64-3.5/cvxpy/problems/objective.py build/lib.macosx-10.6-x86_64-3.5/cvxpy/problems/xpress_problem.py build/lib.macosx-10.6-x86_64-3.5/cvxpy/problems/__init__.py build/lib.macosx-10.6-x86_64-3.5/cvxpy/problems/problem.py build/lib.macosx-10.6-x86_64-3.5/cvxpy/problems/iterative.py build/lib.macosx-10.6-x86_64-3.5/cvxpy/problems/problem_data/problem_data.py build/lib.macosx-10.6-x86_64-3.5/cvxpy/problems/problem_data/sym_data.py build/lib.macosx-10.6-x86_64-3.5/cvxpy/problems/problem_data/__init__.py build/lib.macosx-10.6-x86_64-3.5/cvxpy/problems/problem_data/compr_matrix.py build/lib.macosx-10.6-x86_64-3.5/cvxpy/problems/problem_data/matrix_data.py build/lib.macosx-10.6-x86_64-3.5/cvxpy/problems/solvers/ecos_intf.py build/lib.macosx-10.6-x86_64-3.5/cvxpy/problems/solvers/glpk_mi_intf.py build/lib.macosx-10.6-x86_64-3.5/cvxpy/problems/solvers/glpk_intf.py build/lib.macosx-10.6-x86_64-3.5/cvxpy/problems/solvers/solver.py build/lib.macosx-10.6-x86_64-3.5/cvxpy/problems/solvers/gurobi_intf.py build/lib.macosx-10.6-x86_64-3.5/cvxpy/problems/solvers/xpress_intf.py build/lib.macosx-10.6-x86_64-3.5/cvxpy/problems/solvers/cbc_intf.py build/lib.macosx-10.6-x86_64-3.5/cvxpy/problems/solvers/__init__.py build/lib.macosx-10.6-x86_64-3.5/cvxpy/problems/solvers/cvxopt_intf.py build/lib.macosx-10.6-x86_64-3.5/cvxpy/reductions/cvx_attr2constr.py build/lib.macosx-10.6-x86_64-3.5/cvxpy/reductions/canonicalization.py build/lib.macosx-10.6-x86_64-3.5/cvxpy/reductions/reduction.py build/lib.macosx-10.6-x86_64-3.5/cvxpy/reductions/chain.py build/lib.macosx-10.6-x86_64-3.5/cvxpy/reductions/solution.py build/lib.macosx-10.6-x86_64-3.5/cvxpy/reductions/__init__.py build/lib.macosx-10.6-x86_64-3.5/cvxpy/reductions/inverse_data.py build/lib.macosx-10.6-x86_64-3.5/cvxpy/reductions/eval_params.py build/lib.macosx-10.6-x86_64-3.5/cvxpy/reductions/matrix_stuffing.py build/lib.macosx-10.6-x86_64-3.5/cvxpy/reductions/utilities.py build/lib.macosx-10.6-x86_64-3.5/cvxpy/reductions/flip_objective.py build/lib.macosx-10.6-x86_64-3.5/cvxpy/reductions/complex2real/complex2real.py build/lib.macosx-10.6-x86_64-3.5/cvxpy/reductions/complex2real/__init__.py build/lib.macosx-10.6-x86_64-3.5/cvxpy/reductions/complex2real/atom_canonicalizers/constant_canon.py build/lib.macosx-10.6-x86_64-3.5/cvxpy/reductions/complex2real/atom_canonicalizers/variable_canon.py build/lib.macosx-10.6-x86_64-3.5/cvxpy/reductions/complex2real/atom_canonicalizers/__init__.py build/lib.macosx-10.6-x86_64-3.5/cvxpy/reductions/complex2real/atom_canonicalizers/aff_canon.py build/lib.macosx-10.6-x86_64-3.5/cvxpy/reductions/complex2real/atom_canonicalizers/pnorm_canon.py build/lib.macosx-10.6-x86_64-3.5/cvxpy/reductions/complex2real/atom_canonicalizers/matrix_canon.py build/lib.macosx-10.6-x86_64-3.5/cvxpy/reductions/complex2real/atom_canonicalizers/zero_canon.py build/lib.macosx-10.6-x86_64-3.5/cvxpy/reductions/complex2real/atom_canonicalizers/abs_canon.py build/lib.macosx-10.6-x86_64-3.5/cvxpy/reductions/dcp2cone/__init__.py build/lib.macosx-10.6-x86_64-3.5/cvxpy/reductions/dcp2cone/cone_matrix_stuffing.py build/lib.macosx-10.6-x86_64-3.5/cvxpy/reductions/dcp2cone/dcp2cone.py build/lib.macosx-10.6-x86_64-3.5/cvxpy/reductions/dcp2cone/atom_canonicalizers/quad_form_canon.py build/lib.macosx-10.6-x86_64-3.5/cvxpy/reductions/dcp2cone/atom_canonicalizers/log1p_canon.py build/lib.macosx-10.6-x86_64-3.5/cvxpy/reductions/dcp2cone/atom_canonicalizers/log_det_canon.py build/lib.macosx-10.6-x86_64-3.5/cvxpy/reductions/dcp2cone/atom_canonicalizers/geo_mean_canon.py build/lib.macosx-10.6-x86_64-3.5/cvxpy/reductions/dcp2cone/atom_canonicalizers/exp_canon.py build/lib.macosx-10.6-x86_64-3.5/cvxpy/reductions/dcp2cone/atom_canonicalizers/quad_over_lin_canon.py build/lib.macosx-10.6-x86_64-3.5/cvxpy/reductions/dcp2cone/atom_canonicalizers/power_canon.py build/lib.macosx-10.6-x86_64-3.5/cvxpy/reductions/dcp2cone/atom_canonicalizers/log_sum_exp_canon.py build/lib.macosx-10.6-x86_64-3.5/cvxpy/reductions/dcp2cone/atom_canonicalizers/__init__.py build/lib.macosx-10.6-x86_64-3.5/cvxpy/reductions/dcp2cone/atom_canonicalizers/normNuc_canon.py build/lib.macosx-10.6-x86_64-3.5/cvxpy/reductions/dcp2cone/atom_canonicalizers/logistic_canon.py build/lib.macosx-10.6-x86_64-3.5/cvxpy/reductions/dcp2cone/atom_canonicalizers/matrix_frac_canon.py build/lib.macosx-10.6-x86_64-3.5/cvxpy/reductions/dcp2cone/atom_canonicalizers/sigma_max_canon.py build/lib.macosx-10.6-x86_64-3.5/cvxpy/reductions/dcp2cone/atom_canonicalizers/cumsum_canon.py build/lib.macosx-10.6-x86_64-3.5/cvxpy/reductions/dcp2cone/atom_canonicalizers/pnorm_canon.py build/lib.macosx-10.6-x86_64-3.5/cvxpy/reductions/dcp2cone/atom_canonicalizers/lambda_sum_largest_canon.py build/lib.macosx-10.6-x86_64-3.5/cvxpy/reductions/dcp2cone/atom_canonicalizers/lambda_max_canon.py build/lib.macosx-10.6-x86_64-3.5/cvxpy/reductions/dcp2cone/atom_canonicalizers/huber_canon.py build/lib.macosx-10.6-x86_64-3.5/cvxpy/reductions/dcp2cone/atom_canonicalizers/entr_canon.py build/lib.macosx-10.6-x86_64-3.5/cvxpy/reductions/dcp2cone/atom_canonicalizers/log_canon.py build/lib.macosx-10.6-x86_64-3.5/cvxpy/reductions/dcp2cone/atom_canonicalizers/indicator_canon.py build/lib.macosx-10.6-x86_64-3.5/cvxpy/reductions/dcp2cone/atom_canonicalizers/kl_div_canon.py build/lib.macosx-10.6-x86_64-3.5/cvxpy/reductions/eliminate_pwl/eliminate_pwl.py build/lib.macosx-10.6-x86_64-3.5/cvxpy/reductions/eliminate_pwl/__init__.py build/lib.macosx-10.6-x86_64-3.5/cvxpy/reductions/eliminate_pwl/atom_canonicalizers/norm1_canon.py build/lib.macosx-10.6-x86_64-3.5/cvxpy/reductions/eliminate_pwl/atom_canonicalizers/__init__.py build/lib.macosx-10.6-x86_64-3.5/cvxpy/reductions/eliminate_pwl/atom_canonicalizers/max_canon.py build/lib.macosx-10.6-x86_64-3.5/cvxpy/reductions/eliminate_pwl/atom_canonicalizers/maximum_canon.py build/lib.macosx-10.6-x86_64-3.5/cvxpy/reductions/eliminate_pwl/atom_canonicalizers/sum_largest_canon.py build/lib.macosx-10.6-x86_64-3.5/cvxpy/reductions/eliminate_pwl/atom_canonicalizers/norm_inf_canon.py build/lib.macosx-10.6-x86_64-3.5/cvxpy/reductions/eliminate_pwl/atom_canonicalizers/abs_canon.py build/lib.macosx-10.6-x86_64-3.5/cvxpy/reductions/qp2quad_form/qp_matrix_stuffing.py build/lib.macosx-10.6-x86_64-3.5/cvxpy/reductions/qp2quad_form/__init__.py build/lib.macosx-10.6-x86_64-3.5/cvxpy/reductions/qp2quad_form/qp2symbolic_qp.py build/lib.macosx-10.6-x86_64-3.5/cvxpy/reductions/qp2quad_form/atom_canonicalizers/quad_form_canon.py build/lib.macosx-10.6-x86_64-3.5/cvxpy/reductions/qp2quad_form/atom_canonicalizers/quad_over_lin_canon.py build/lib.macosx-10.6-x86_64-3.5/cvxpy/reductions/qp2quad_form/atom_canonicalizers/power_canon.py build/lib.macosx-10.6-x86_64-3.5/cvxpy/reductions/qp2quad_form/atom_canonicalizers/__init__.py build/lib.macosx-10.6-x86_64-3.5/cvxpy/reductions/solvers/solving_chain.py build/lib.macosx-10.6-x86_64-3.5/cvxpy/reductions/solvers/solver.py build/lib.macosx-10.6-x86_64-3.5/cvxpy/reductions/solvers/__init__.py build/lib.macosx-10.6-x86_64-3.5/cvxpy/reductions/solvers/defines.py build/lib.macosx-10.6-x86_64-3.5/cvxpy/reductions/solvers/constant_solver.py build/lib.macosx-10.6-x86_64-3.5/cvxpy/reductions/solvers/utilities.py build/lib.macosx-10.6-x86_64-3.5/cvxpy/reductions/solvers/conic_solvers/ls_conif.py build/lib.macosx-10.6-x86_64-3.5/cvxpy/reductions/solvers/conic_solvers/conic_solver.py build/lib.macosx-10.6-x86_64-3.5/cvxpy/reductions/solvers/conic_solvers/ecos_bb_conif.py build/lib.macosx-10.6-x86_64-3.5/cvxpy/reductions/solvers/conic_solvers/cbc_conif.py build/lib.macosx-10.6-x86_64-3.5/cvxpy/reductions/solvers/conic_solvers/elemental_conif.py build/lib.macosx-10.6-x86_64-3.5/cvxpy/reductions/solvers/conic_solvers/ecos_conif.py build/lib.macosx-10.6-x86_64-3.5/cvxpy/reductions/solvers/conic_solvers/mosek_conif.py build/lib.macosx-10.6-x86_64-3.5/cvxpy/reductions/solvers/conic_solvers/scs_conif.py build/lib.macosx-10.6-x86_64-3.5/cvxpy/reductions/solvers/conic_solvers/__init__.py build/lib.macosx-10.6-x86_64-3.5/cvxpy/reductions/solvers/conic_solvers/xpress_conif.py build/lib.macosx-10.6-x86_64-3.5/cvxpy/reductions/solvers/conic_solvers/cvxopt_conif.py build/lib.macosx-10.6-x86_64-3.5/cvxpy/reductions/solvers/conic_solvers/glpk_mi_conif.py build/lib.macosx-10.6-x86_64-3.5/cvxpy/reductions/solvers/conic_solvers/glpk_conif.py build/lib.macosx-10.6-x86_64-3.5/cvxpy/reductions/solvers/conic_solvers/gurobi_conif.py build/lib.macosx-10.6-x86_64-3.5/cvxpy/reductions/solvers/conic_solvers/julia_opt_conif.py build/lib.macosx-10.6-x86_64-3.5/cvxpy/reductions/solvers/qp_solvers/osqp_qpif.py build/lib.macosx-10.6-x86_64-3.5/cvxpy/reductions/solvers/qp_solvers/qp_solver.py build/lib.macosx-10.6-x86_64-3.5/cvxpy/reductions/solvers/qp_solvers/cplex_qpif.py build/lib.macosx-10.6-x86_64-3.5/cvxpy/reductions/solvers/qp_solvers/__init__.py build/lib.macosx-10.6-x86_64-3.5/cvxpy/reductions/solvers/qp_solvers/gurobi_qpif.py build/lib.macosx-10.6-x86_64-3.5/cvxpy/reductions/solvers/lp_solvers/__init__.py build/lib.macosx-10.6-x86_64-3.5/cvxpy/reductions/solvers/lp_solvers/cbc_lpif.py build/lib.macosx-10.6-x86_64-3.5/cvxpy/tests/base_test.py build/lib.macosx-10.6-x86_64-3.5/cvxpy/tests/test_mip_vars.py build/lib.macosx-10.6-x86_64-3.5/cvxpy/tests/test_nonlinear_atoms.py build/lib.macosx-10.6-x86_64-3.5/cvxpy/tests/test_expressions.py build/lib.macosx-10.6-x86_64-3.5/cvxpy/tests/test_constant_atoms.py build/lib.macosx-10.6-x86_64-3.5/cvxpy/tests/test_semidefinite_vars.py build/lib.macosx-10.6-x86_64-3.5/cvxpy/tests/test_shape.py build/lib.macosx-10.6-x86_64-3.5/cvxpy/tests/test_lin_ops.py build/lib.macosx-10.6-x86_64-3.5/cvxpy/tests/test_atoms.py build/lib.macosx-10.6-x86_64-3.5/cvxpy/tests/test_solvers.py build/lib.macosx-10.6-x86_64-3.5/cvxpy/tests/test_scs.py build/lib.macosx-10.6-x86_64-3.5/cvxpy/tests/test_objectives.py build/lib.macosx-10.6-x86_64-3.5/cvxpy/tests/test_convolution.py build/lib.macosx-10.6-x86_64-3.5/cvxpy/tests/__init__.py build/lib.macosx-10.6-x86_64-3.5/cvxpy/tests/test_qp.py build/lib.macosx-10.6-x86_64-3.5/cvxpy/tests/test_mosek_conif.py build/lib.macosx-10.6-x86_64-3.5/cvxpy/tests/test_matrices.py build/lib.macosx-10.6-x86_64-3.5/cvxpy/tests/test_cbc.py build/lib.macosx-10.6-x86_64-3.5/cvxpy/tests/test_non_optimal.py build/lib.macosx-10.6-x86_64-3.5/cvxpy/tests/test_quad_form.py build/lib.macosx-10.6-x86_64-3.5/cvxpy/tests/test_constraints.py build/lib.macosx-10.6-x86_64-3.5/cvxpy/tests/test_monotonicity.py build/lib.macosx-10.6-x86_64-3.5/cvxpy/tests/test_quadratic.py build/lib.macosx-10.6-x86_64-3.5/cvxpy/tests/test_domain.py build/lib.macosx-10.6-x86_64-3.5/cvxpy/tests/test_problem.py build/lib.macosx-10.6-x86_64-3.5/cvxpy/tests/test_complex.py build/lib.macosx-10.6-x86_64-3.5/cvxpy/tests/test_linear_cone.py build/lib.macosx-10.6-x86_64-3.5/cvxpy/tests/test_interfaces.py build/lib.macosx-10.6-x86_64-3.5/cvxpy/tests/test_curvature.py build/lib.macosx-10.6-x86_64-3.5/cvxpy/tests/test_elemental.py build/lib.macosx-10.6-x86_64-3.5/cvxpy/tests/test_julia_opt.py build/lib.macosx-10.6-x86_64-3.5/cvxpy/tests/test_examples.py build/lib.macosx-10.6-x86_64-3.5/cvxpy/tests/test_sign.py build/lib.macosx-10.6-x86_64-3.5/cvxpy/tests/test_grad.py build/lib.macosx-10.6-x86_64-3.5/cvxpy/transforms/indicator.py build/lib.macosx-10.6-x86_64-3.5/cvxpy/transforms/__init__.py build/lib.macosx-10.6-x86_64-3.5/cvxpy/transforms/separable_problems.py build/lib.macosx-10.6-x86_64-3.5/cvxpy/transforms/partial_optimize.py build/lib.macosx-10.6-x86_64-3.5/cvxpy/transforms/linearize.py build/lib.macosx-10.6-x86_64-3.5/cvxpy/transforms/scalarize.py build/lib.macosx-10.6-x86_64-3.5/cvxpy/utilities/cvxpy_upgrade.py build/lib.macosx-10.6-x86_64-3.5/cvxpy/utilities/replace_quad_forms.py build/lib.macosx-10.6-x86_64-3.5/cvxpy/utilities/power_tools.py build/lib.macosx-10.6-x86_64-3.5/cvxpy/utilities/performance_utils.py build/lib.macosx-10.6-x86_64-3.5/cvxpy/utilities/__init__.py build/lib.macosx-10.6-x86_64-3.5/cvxpy/utilities/key_utils.py build/lib.macosx-10.6-x86_64-3.5/cvxpy/utilities/canonical.py build/lib.macosx-10.6-x86_64-3.5/cvxpy/utilities/shape.py build/lib.macosx-10.6-x86_64-3.5/cvxpy/utilities/sign.py build/lib.macosx-10.6-x86_64-3.5/cvxpy/utilities/grad.py build/lib.macosx-10.6-x86_64-3.5/cvxpy/utilities/coeff_extractor.py\n",
      "  Skipping optional fixer: buffer\n",
      "  Skipping optional fixer: idioms\n",
      "  Skipping optional fixer: set_literal\n",
      "  Skipping optional fixer: ws_comma\n",
      "  Fixing build/lib.macosx-10.6-x86_64-3.5/cvxpy/error.py build/lib.macosx-10.6-x86_64-3.5/cvxpy/__init__.py build/lib.macosx-10.6-x86_64-3.5/cvxpy/settings.py build/lib.macosx-10.6-x86_64-3.5/cvxpy/atoms/max.py build/lib.macosx-10.6-x86_64-3.5/cvxpy/atoms/cummax.py build/lib.macosx-10.6-x86_64-3.5/cvxpy/atoms/matrix_frac.py build/lib.macosx-10.6-x86_64-3.5/cvxpy/atoms/lambda_max.py build/lib.macosx-10.6-x86_64-3.5/cvxpy/atoms/sigma_max.py build/lib.macosx-10.6-x86_64-3.5/cvxpy/atoms/total_variation.py build/lib.macosx-10.6-x86_64-3.5/cvxpy/atoms/sum_smallest.py build/lib.macosx-10.6-x86_64-3.5/cvxpy/atoms/norm1.py build/lib.macosx-10.6-x86_64-3.5/cvxpy/atoms/lambda_sum_smallest.py build/lib.macosx-10.6-x86_64-3.5/cvxpy/atoms/norm.py build/lib.macosx-10.6-x86_64-3.5/cvxpy/atoms/pnorm.py build/lib.macosx-10.6-x86_64-3.5/cvxpy/atoms/__init__.py build/lib.macosx-10.6-x86_64-3.5/cvxpy/atoms/sum_largest.py build/lib.macosx-10.6-x86_64-3.5/cvxpy/atoms/lambda_sum_largest.py build/lib.macosx-10.6-x86_64-3.5/cvxpy/atoms/sum_squares.py build/lib.macosx-10.6-x86_64-3.5/cvxpy/atoms/log_sum_exp.py build/lib.macosx-10.6-x86_64-3.5/cvxpy/atoms/norm_nuc.py build/lib.macosx-10.6-x86_64-3.5/cvxpy/atoms/mixed_norm.py build/lib.macosx-10.6-x86_64-3.5/cvxpy/atoms/min.py build/lib.macosx-10.6-x86_64-3.5/cvxpy/atoms/quad_over_lin.py build/lib.macosx-10.6-x86_64-3.5/cvxpy/atoms/geo_mean.py build/lib.macosx-10.6-x86_64-3.5/cvxpy/atoms/axis_atom.py build/lib.macosx-10.6-x86_64-3.5/cvxpy/atoms/lambda_min.py build/lib.macosx-10.6-x86_64-3.5/cvxpy/atoms/norm_inf.py build/lib.macosx-10.6-x86_64-3.5/cvxpy/atoms/quad_form.py build/lib.macosx-10.6-x86_64-3.5/cvxpy/atoms/log_det.py build/lib.macosx-10.6-x86_64-3.5/cvxpy/atoms/harmonic_mean.py build/lib.macosx-10.6-x86_64-3.5/cvxpy/atoms/atom.py build/lib.macosx-10.6-x86_64-3.5/cvxpy/atoms/affine/vec.py build/lib.macosx-10.6-x86_64-3.5/cvxpy/atoms/affine/trace.py build/lib.macosx-10.6-x86_64-3.5/cvxpy/atoms/affine/unary_operators.py build/lib.macosx-10.6-x86_64-3.5/cvxpy/atoms/affine/vstack.py build/lib.macosx-10.6-x86_64-3.5/cvxpy/atoms/affine/affine_atom.py build/lib.macosx-10.6-x86_64-3.5/cvxpy/atoms/affine/index.py build/lib.macosx-10.6-x86_64-3.5/cvxpy/atoms/affine/upper_tri.py build/lib.macosx-10.6-x86_64-3.5/cvxpy/atoms/affine/binary_operators.py build/lib.macosx-10.6-x86_64-3.5/cvxpy/atoms/affine/hstack.py build/lib.macosx-10.6-x86_64-3.5/cvxpy/atoms/affine/reshape.py build/lib.macosx-10.6-x86_64-3.5/cvxpy/atoms/affine/bmat.py build/lib.macosx-10.6-x86_64-3.5/cvxpy/atoms/affine/__init__.py build/lib.macosx-10.6-x86_64-3.5/cvxpy/atoms/affine/promote.py build/lib.macosx-10.6-x86_64-3.5/cvxpy/atoms/affine/real.py build/lib.macosx-10.6-x86_64-3.5/cvxpy/atoms/affine/kron.py build/lib.macosx-10.6-x86_64-3.5/cvxpy/atoms/affine/imag.py build/lib.macosx-10.6-x86_64-3.5/cvxpy/atoms/affine/transpose.py build/lib.macosx-10.6-x86_64-3.5/cvxpy/atoms/affine/diag.py build/lib.macosx-10.6-x86_64-3.5/cvxpy/atoms/affine/add_expr.py build/lib.macosx-10.6-x86_64-3.5/cvxpy/atoms/affine/diff.py build/lib.macosx-10.6-x86_64-3.5/cvxpy/atoms/affine/sum.py build/lib.macosx-10.6-x86_64-3.5/cvxpy/atoms/affine/conv.py build/lib.macosx-10.6-x86_64-3.5/cvxpy/atoms/affine/cumsum.py build/lib.macosx-10.6-x86_64-3.5/cvxpy/atoms/affine/conj.py build/lib.macosx-10.6-x86_64-3.5/cvxpy/atoms/elementwise/kl_div.py build/lib.macosx-10.6-x86_64-3.5/cvxpy/atoms/elementwise/pos.py build/lib.macosx-10.6-x86_64-3.5/cvxpy/atoms/elementwise/neg.py build/lib.macosx-10.6-x86_64-3.5/cvxpy/atoms/elementwise/sqrt.py build/lib.macosx-10.6-x86_64-3.5/cvxpy/atoms/elementwise/entr.py build/lib.macosx-10.6-x86_64-3.5/cvxpy/atoms/elementwise/log.py build/lib.macosx-10.6-x86_64-3.5/cvxpy/atoms/elementwise/logistic.py build/lib.macosx-10.6-x86_64-3.5/cvxpy/atoms/elementwise/elementwise.py build/lib.macosx-10.6-x86_64-3.5/cvxpy/atoms/elementwise/abs.py build/lib.macosx-10.6-x86_64-3.5/cvxpy/atoms/elementwise/__init__.py build/lib.macosx-10.6-x86_64-3.5/cvxpy/atoms/elementwise/maximum.py build/lib.macosx-10.6-x86_64-3.5/cvxpy/atoms/elementwise/minimum.py build/lib.macosx-10.6-x86_64-3.5/cvxpy/atoms/elementwise/huber.py build/lib.macosx-10.6-x86_64-3.5/cvxpy/atoms/elementwise/scalene.py build/lib.macosx-10.6-x86_64-3.5/cvxpy/atoms/elementwise/square.py build/lib.macosx-10.6-x86_64-3.5/cvxpy/atoms/elementwise/inv_pos.py build/lib.macosx-10.6-x86_64-3.5/cvxpy/atoms/elementwise/exp.py build/lib.macosx-10.6-x86_64-3.5/cvxpy/atoms/elementwise/log1p.py build/lib.macosx-10.6-x86_64-3.5/cvxpy/atoms/elementwise/power.py build/lib.macosx-10.6-x86_64-3.5/cvxpy/cvxcore/__init__.py build/lib.macosx-10.6-x86_64-3.5/cvxpy/cvxcore/python/canonInterface.py build/lib.macosx-10.6-x86_64-3.5/cvxpy/cvxcore/python/__init__.py build/lib.macosx-10.6-x86_64-3.5/cvxpy/cvxcore/python/cvxcore.py build/lib.macosx-10.6-x86_64-3.5/cvxpy/constraints/constraint.py build/lib.macosx-10.6-x86_64-3.5/cvxpy/constraints/nonlinear.py build/lib.macosx-10.6-x86_64-3.5/cvxpy/constraints/__init__.py build/lib.macosx-10.6-x86_64-3.5/cvxpy/constraints/second_order.py build/lib.macosx-10.6-x86_64-3.5/cvxpy/constraints/exponential.py build/lib.macosx-10.6-x86_64-3.5/cvxpy/constraints/zero.py build/lib.macosx-10.6-x86_64-3.5/cvxpy/constraints/nonpos.py build/lib.macosx-10.6-x86_64-3.5/cvxpy/constraints/soc_axis.py build/lib.macosx-10.6-x86_64-3.5/cvxpy/constraints/psd.py build/lib.macosx-10.6-x86_64-3.5/cvxpy/constraints/utilities.py build/lib.macosx-10.6-x86_64-3.5/cvxpy/expressions/cvxtypes.py build/lib.macosx-10.6-x86_64-3.5/cvxpy/expressions/leaf.py build/lib.macosx-10.6-x86_64-3.5/cvxpy/expressions/__init__.py build/lib.macosx-10.6-x86_64-3.5/cvxpy/expressions/variable.py build/lib.macosx-10.6-x86_64-3.5/cvxpy/expressions/expression.py build/lib.macosx-10.6-x86_64-3.5/cvxpy/expressions/constants/__init__.py build/lib.macosx-10.6-x86_64-3.5/cvxpy/expressions/constants/callback_param.py build/lib.macosx-10.6-x86_64-3.5/cvxpy/expressions/constants/constant.py build/lib.macosx-10.6-x86_64-3.5/cvxpy/expressions/constants/parameter.py build/lib.macosx-10.6-x86_64-3.5/cvxpy/interface/base_matrix_interface.py build/lib.macosx-10.6-x86_64-3.5/cvxpy/interface/__init__.py build/lib.macosx-10.6-x86_64-3.5/cvxpy/interface/scipy_wrapper.py build/lib.macosx-10.6-x86_64-3.5/cvxpy/interface/matrix_utilities.py build/lib.macosx-10.6-x86_64-3.5/cvxpy/interface/numpy_interface/matrix_interface.py build/lib.macosx-10.6-x86_64-3.5/cvxpy/interface/numpy_interface/sparse_matrix_interface.py build/lib.macosx-10.6-x86_64-3.5/cvxpy/interface/numpy_interface/__init__.py build/lib.macosx-10.6-x86_64-3.5/cvxpy/interface/numpy_interface/ndarray_interface.py build/lib.macosx-10.6-x86_64-3.5/cvxpy/lin_ops/__init__.py build/lib.macosx-10.6-x86_64-3.5/cvxpy/lin_ops/lin_op.py build/lib.macosx-10.6-x86_64-3.5/cvxpy/lin_ops/lin_constraints.py build/lib.macosx-10.6-x86_64-3.5/cvxpy/lin_ops/lin_utils.py build/lib.macosx-10.6-x86_64-3.5/cvxpy/lin_ops/tree_mat.py build/lib.macosx-10.6-x86_64-3.5/cvxpy/problems/kktsolver.py build/lib.macosx-10.6-x86_64-3.5/cvxpy/problems/objective.py build/lib.macosx-10.6-x86_64-3.5/cvxpy/problems/xpress_problem.py build/lib.macosx-10.6-x86_64-3.5/cvxpy/problems/__init__.py build/lib.macosx-10.6-x86_64-3.5/cvxpy/problems/problem.py build/lib.macosx-10.6-x86_64-3.5/cvxpy/problems/iterative.py build/lib.macosx-10.6-x86_64-3.5/cvxpy/problems/problem_data/problem_data.py build/lib.macosx-10.6-x86_64-3.5/cvxpy/problems/problem_data/sym_data.py build/lib.macosx-10.6-x86_64-3.5/cvxpy/problems/problem_data/__init__.py build/lib.macosx-10.6-x86_64-3.5/cvxpy/problems/problem_data/compr_matrix.py build/lib.macosx-10.6-x86_64-3.5/cvxpy/problems/problem_data/matrix_data.py build/lib.macosx-10.6-x86_64-3.5/cvxpy/problems/solvers/ecos_intf.py build/lib.macosx-10.6-x86_64-3.5/cvxpy/problems/solvers/glpk_mi_intf.py build/lib.macosx-10.6-x86_64-3.5/cvxpy/problems/solvers/glpk_intf.py build/lib.macosx-10.6-x86_64-3.5/cvxpy/problems/solvers/solver.py build/lib.macosx-10.6-x86_64-3.5/cvxpy/problems/solvers/gurobi_intf.py build/lib.macosx-10.6-x86_64-3.5/cvxpy/problems/solvers/xpress_intf.py build/lib.macosx-10.6-x86_64-3.5/cvxpy/problems/solvers/cbc_intf.py build/lib.macosx-10.6-x86_64-3.5/cvxpy/problems/solvers/__init__.py build/lib.macosx-10.6-x86_64-3.5/cvxpy/problems/solvers/cvxopt_intf.py build/lib.macosx-10.6-x86_64-3.5/cvxpy/reductions/cvx_attr2constr.py build/lib.macosx-10.6-x86_64-3.5/cvxpy/reductions/canonicalization.py build/lib.macosx-10.6-x86_64-3.5/cvxpy/reductions/reduction.py build/lib.macosx-10.6-x86_64-3.5/cvxpy/reductions/chain.py build/lib.macosx-10.6-x86_64-3.5/cvxpy/reductions/solution.py build/lib.macosx-10.6-x86_64-3.5/cvxpy/reductions/__init__.py build/lib.macosx-10.6-x86_64-3.5/cvxpy/reductions/inverse_data.py build/lib.macosx-10.6-x86_64-3.5/cvxpy/reductions/eval_params.py build/lib.macosx-10.6-x86_64-3.5/cvxpy/reductions/matrix_stuffing.py build/lib.macosx-10.6-x86_64-3.5/cvxpy/reductions/utilities.py build/lib.macosx-10.6-x86_64-3.5/cvxpy/reductions/flip_objective.py build/lib.macosx-10.6-x86_64-3.5/cvxpy/reductions/complex2real/complex2real.py build/lib.macosx-10.6-x86_64-3.5/cvxpy/reductions/complex2real/__init__.py build/lib.macosx-10.6-x86_64-3.5/cvxpy/reductions/complex2real/atom_canonicalizers/constant_canon.py build/lib.macosx-10.6-x86_64-3.5/cvxpy/reductions/complex2real/atom_canonicalizers/variable_canon.py build/lib.macosx-10.6-x86_64-3.5/cvxpy/reductions/complex2real/atom_canonicalizers/__init__.py build/lib.macosx-10.6-x86_64-3.5/cvxpy/reductions/complex2real/atom_canonicalizers/aff_canon.py build/lib.macosx-10.6-x86_64-3.5/cvxpy/reductions/complex2real/atom_canonicalizers/pnorm_canon.py build/lib.macosx-10.6-x86_64-3.5/cvxpy/reductions/complex2real/atom_canonicalizers/matrix_canon.py build/lib.macosx-10.6-x86_64-3.5/cvxpy/reductions/complex2real/atom_canonicalizers/zero_canon.py build/lib.macosx-10.6-x86_64-3.5/cvxpy/reductions/complex2real/atom_canonicalizers/abs_canon.py build/lib.macosx-10.6-x86_64-3.5/cvxpy/reductions/dcp2cone/__init__.py build/lib.macosx-10.6-x86_64-3.5/cvxpy/reductions/dcp2cone/cone_matrix_stuffing.py build/lib.macosx-10.6-x86_64-3.5/cvxpy/reductions/dcp2cone/dcp2cone.py build/lib.macosx-10.6-x86_64-3.5/cvxpy/reductions/dcp2cone/atom_canonicalizers/quad_form_canon.py build/lib.macosx-10.6-x86_64-3.5/cvxpy/reductions/dcp2cone/atom_canonicalizers/log1p_canon.py build/lib.macosx-10.6-x86_64-3.5/cvxpy/reductions/dcp2cone/atom_canonicalizers/log_det_canon.py build/lib.macosx-10.6-x86_64-3.5/cvxpy/reductions/dcp2cone/atom_canonicalizers/geo_mean_canon.py build/lib.macosx-10.6-x86_64-3.5/cvxpy/reductions/dcp2cone/atom_canonicalizers/exp_canon.py build/lib.macosx-10.6-x86_64-3.5/cvxpy/reductions/dcp2cone/atom_canonicalizers/quad_over_lin_canon.py build/lib.macosx-10.6-x86_64-3.5/cvxpy/reductions/dcp2cone/atom_canonicalizers/power_canon.py build/lib.macosx-10.6-x86_64-3.5/cvxpy/reductions/dcp2cone/atom_canonicalizers/log_sum_exp_canon.py build/lib.macosx-10.6-x86_64-3.5/cvxpy/reductions/dcp2cone/atom_canonicalizers/__init__.py build/lib.macosx-10.6-x86_64-3.5/cvxpy/reductions/dcp2cone/atom_canonicalizers/normNuc_canon.py build/lib.macosx-10.6-x86_64-3.5/cvxpy/reductions/dcp2cone/atom_canonicalizers/logistic_canon.py build/lib.macosx-10.6-x86_64-3.5/cvxpy/reductions/dcp2cone/atom_canonicalizers/matrix_frac_canon.py build/lib.macosx-10.6-x86_64-3.5/cvxpy/reductions/dcp2cone/atom_canonicalizers/sigma_max_canon.py build/lib.macosx-10.6-x86_64-3.5/cvxpy/reductions/dcp2cone/atom_canonicalizers/cumsum_canon.py build/lib.macosx-10.6-x86_64-3.5/cvxpy/reductions/dcp2cone/atom_canonicalizers/pnorm_canon.py build/lib.macosx-10.6-x86_64-3.5/cvxpy/reductions/dcp2cone/atom_canonicalizers/lambda_sum_largest_canon.py build/lib.macosx-10.6-x86_64-3.5/cvxpy/reductions/dcp2cone/atom_canonicalizers/lambda_max_canon.py build/lib.macosx-10.6-x86_64-3.5/cvxpy/reductions/dcp2cone/atom_canonicalizers/huber_canon.py build/lib.macosx-10.6-x86_64-3.5/cvxpy/reductions/dcp2cone/atom_canonicalizers/entr_canon.py build/lib.macosx-10.6-x86_64-3.5/cvxpy/reductions/dcp2cone/atom_canonicalizers/log_canon.py build/lib.macosx-10.6-x86_64-3.5/cvxpy/reductions/dcp2cone/atom_canonicalizers/indicator_canon.py build/lib.macosx-10.6-x86_64-3.5/cvxpy/reductions/dcp2cone/atom_canonicalizers/kl_div_canon.py build/lib.macosx-10.6-x86_64-3.5/cvxpy/reductions/eliminate_pwl/eliminate_pwl.py build/lib.macosx-10.6-x86_64-3.5/cvxpy/reductions/eliminate_pwl/__init__.py build/lib.macosx-10.6-x86_64-3.5/cvxpy/reductions/eliminate_pwl/atom_canonicalizers/norm1_canon.py build/lib.macosx-10.6-x86_64-3.5/cvxpy/reductions/eliminate_pwl/atom_canonicalizers/__init__.py build/lib.macosx-10.6-x86_64-3.5/cvxpy/reductions/eliminate_pwl/atom_canonicalizers/max_canon.py build/lib.macosx-10.6-x86_64-3.5/cvxpy/reductions/eliminate_pwl/atom_canonicalizers/maximum_canon.py build/lib.macosx-10.6-x86_64-3.5/cvxpy/reductions/eliminate_pwl/atom_canonicalizers/sum_largest_canon.py build/lib.macosx-10.6-x86_64-3.5/cvxpy/reductions/eliminate_pwl/atom_canonicalizers/norm_inf_canon.py build/lib.macosx-10.6-x86_64-3.5/cvxpy/reductions/eliminate_pwl/atom_canonicalizers/abs_canon.py build/lib.macosx-10.6-x86_64-3.5/cvxpy/reductions/qp2quad_form/qp_matrix_stuffing.py build/lib.macosx-10.6-x86_64-3.5/cvxpy/reductions/qp2quad_form/__init__.py build/lib.macosx-10.6-x86_64-3.5/cvxpy/reductions/qp2quad_form/qp2symbolic_qp.py build/lib.macosx-10.6-x86_64-3.5/cvxpy/reductions/qp2quad_form/atom_canonicalizers/quad_form_canon.py build/lib.macosx-10.6-x86_64-3.5/cvxpy/reductions/qp2quad_form/atom_canonicalizers/quad_over_lin_canon.py build/lib.macosx-10.6-x86_64-3.5/cvxpy/reductions/qp2quad_form/atom_canonicalizers/power_canon.py build/lib.macosx-10.6-x86_64-3.5/cvxpy/reductions/qp2quad_form/atom_canonicalizers/__init__.py build/lib.macosx-10.6-x86_64-3.5/cvxpy/reductions/solvers/solving_chain.py build/lib.macosx-10.6-x86_64-3.5/cvxpy/reductions/solvers/solver.py build/lib.macosx-10.6-x86_64-3.5/cvxpy/reductions/solvers/__init__.py build/lib.macosx-10.6-x86_64-3.5/cvxpy/reductions/solvers/defines.py build/lib.macosx-10.6-x86_64-3.5/cvxpy/reductions/solvers/constant_solver.py build/lib.macosx-10.6-x86_64-3.5/cvxpy/reductions/solvers/utilities.py build/lib.macosx-10.6-x86_64-3.5/cvxpy/reductions/solvers/conic_solvers/ls_conif.py build/lib.macosx-10.6-x86_64-3.5/cvxpy/reductions/solvers/conic_solvers/conic_solver.py build/lib.macosx-10.6-x86_64-3.5/cvxpy/reductions/solvers/conic_solvers/ecos_bb_conif.py build/lib.macosx-10.6-x86_64-3.5/cvxpy/reductions/solvers/conic_solvers/cbc_conif.py build/lib.macosx-10.6-x86_64-3.5/cvxpy/reductions/solvers/conic_solvers/elemental_conif.py build/lib.macosx-10.6-x86_64-3.5/cvxpy/reductions/solvers/conic_solvers/ecos_conif.py build/lib.macosx-10.6-x86_64-3.5/cvxpy/reductions/solvers/conic_solvers/mosek_conif.py build/lib.macosx-10.6-x86_64-3.5/cvxpy/reductions/solvers/conic_solvers/scs_conif.py build/lib.macosx-10.6-x86_64-3.5/cvxpy/reductions/solvers/conic_solvers/__init__.py build/lib.macosx-10.6-x86_64-3.5/cvxpy/reductions/solvers/conic_solvers/xpress_conif.py build/lib.macosx-10.6-x86_64-3.5/cvxpy/reductions/solvers/conic_solvers/cvxopt_conif.py build/lib.macosx-10.6-x86_64-3.5/cvxpy/reductions/solvers/conic_solvers/glpk_mi_conif.py build/lib.macosx-10.6-x86_64-3.5/cvxpy/reductions/solvers/conic_solvers/glpk_conif.py build/lib.macosx-10.6-x86_64-3.5/cvxpy/reductions/solvers/conic_solvers/gurobi_conif.py build/lib.macosx-10.6-x86_64-3.5/cvxpy/reductions/solvers/conic_solvers/julia_opt_conif.py build/lib.macosx-10.6-x86_64-3.5/cvxpy/reductions/solvers/qp_solvers/osqp_qpif.py build/lib.macosx-10.6-x86_64-3.5/cvxpy/reductions/solvers/qp_solvers/qp_solver.py build/lib.macosx-10.6-x86_64-3.5/cvxpy/reductions/solvers/qp_solvers/cplex_qpif.py build/lib.macosx-10.6-x86_64-3.5/cvxpy/reductions/solvers/qp_solvers/__init__.py build/lib.macosx-10.6-x86_64-3.5/cvxpy/reductions/solvers/qp_solvers/gurobi_qpif.py build/lib.macosx-10.6-x86_64-3.5/cvxpy/reductions/solvers/lp_solvers/__init__.py build/lib.macosx-10.6-x86_64-3.5/cvxpy/reductions/solvers/lp_solvers/cbc_lpif.py build/lib.macosx-10.6-x86_64-3.5/cvxpy/tests/base_test.py build/lib.macosx-10.6-x86_64-3.5/cvxpy/tests/test_mip_vars.py build/lib.macosx-10.6-x86_64-3.5/cvxpy/tests/test_nonlinear_atoms.py build/lib.macosx-10.6-x86_64-3.5/cvxpy/tests/test_expressions.py build/lib.macosx-10.6-x86_64-3.5/cvxpy/tests/test_constant_atoms.py build/lib.macosx-10.6-x86_64-3.5/cvxpy/tests/test_semidefinite_vars.py build/lib.macosx-10.6-x86_64-3.5/cvxpy/tests/test_shape.py build/lib.macosx-10.6-x86_64-3.5/cvxpy/tests/test_lin_ops.py build/lib.macosx-10.6-x86_64-3.5/cvxpy/tests/test_atoms.py build/lib.macosx-10.6-x86_64-3.5/cvxpy/tests/test_solvers.py build/lib.macosx-10.6-x86_64-3.5/cvxpy/tests/test_scs.py build/lib.macosx-10.6-x86_64-3.5/cvxpy/tests/test_objectives.py build/lib.macosx-10.6-x86_64-3.5/cvxpy/tests/test_convolution.py build/lib.macosx-10.6-x86_64-3.5/cvxpy/tests/__init__.py build/lib.macosx-10.6-x86_64-3.5/cvxpy/tests/test_qp.py build/lib.macosx-10.6-x86_64-3.5/cvxpy/tests/test_mosek_conif.py build/lib.macosx-10.6-x86_64-3.5/cvxpy/tests/test_matrices.py build/lib.macosx-10.6-x86_64-3.5/cvxpy/tests/test_cbc.py build/lib.macosx-10.6-x86_64-3.5/cvxpy/tests/test_non_optimal.py build/lib.macosx-10.6-x86_64-3.5/cvxpy/tests/test_quad_form.py build/lib.macosx-10.6-x86_64-3.5/cvxpy/tests/test_constraints.py build/lib.macosx-10.6-x86_64-3.5/cvxpy/tests/test_monotonicity.py build/lib.macosx-10.6-x86_64-3.5/cvxpy/tests/test_quadratic.py build/lib.macosx-10.6-x86_64-3.5/cvxpy/tests/test_domain.py build/lib.macosx-10.6-x86_64-3.5/cvxpy/tests/test_problem.py build/lib.macosx-10.6-x86_64-3.5/cvxpy/tests/test_complex.py build/lib.macosx-10.6-x86_64-3.5/cvxpy/tests/test_linear_cone.py build/lib.macosx-10.6-x86_64-3.5/cvxpy/tests/test_interfaces.py build/lib.macosx-10.6-x86_64-3.5/cvxpy/tests/test_curvature.py build/lib.macosx-10.6-x86_64-3.5/cvxpy/tests/test_elemental.py build/lib.macosx-10.6-x86_64-3.5/cvxpy/tests/test_julia_opt.py build/lib.macosx-10.6-x86_64-3.5/cvxpy/tests/test_examples.py build/lib.macosx-10.6-x86_64-3.5/cvxpy/tests/test_sign.py build/lib.macosx-10.6-x86_64-3.5/cvxpy/tests/test_grad.py build/lib.macosx-10.6-x86_64-3.5/cvxpy/transforms/indicator.py build/lib.macosx-10.6-x86_64-3.5/cvxpy/transforms/__init__.py build/lib.macosx-10.6-x86_64-3.5/cvxpy/transforms/separable_problems.py build/lib.macosx-10.6-x86_64-3.5/cvxpy/transforms/partial_optimize.py build/lib.macosx-10.6-x86_64-3.5/cvxpy/transforms/linearize.py build/lib.macosx-10.6-x86_64-3.5/cvxpy/transforms/scalarize.py build/lib.macosx-10.6-x86_64-3.5/cvxpy/utilities/cvxpy_upgrade.py build/lib.macosx-10.6-x86_64-3.5/cvxpy/utilities/replace_quad_forms.py build/lib.macosx-10.6-x86_64-3.5/cvxpy/utilities/power_tools.py build/lib.macosx-10.6-x86_64-3.5/cvxpy/utilities/performance_utils.py build/lib.macosx-10.6-x86_64-3.5/cvxpy/utilities/__init__.py build/lib.macosx-10.6-x86_64-3.5/cvxpy/utilities/key_utils.py build/lib.macosx-10.6-x86_64-3.5/cvxpy/utilities/canonical.py build/lib.macosx-10.6-x86_64-3.5/cvxpy/utilities/shape.py build/lib.macosx-10.6-x86_64-3.5/cvxpy/utilities/sign.py build/lib.macosx-10.6-x86_64-3.5/cvxpy/utilities/grad.py build/lib.macosx-10.6-x86_64-3.5/cvxpy/utilities/coeff_extractor.py\n",
      "  Skipping optional fixer: buffer\n",
      "  Skipping optional fixer: idioms\n",
      "  Skipping optional fixer: set_literal\n",
      "  Skipping optional fixer: ws_comma\n",
      "  running build_ext\n",
      "  building '_cvxcore' extension\n",
      "  creating build/temp.macosx-10.6-x86_64-3.5\n",
      "  creating build/temp.macosx-10.6-x86_64-3.5/cvxpy\n",
      "  creating build/temp.macosx-10.6-x86_64-3.5/cvxpy/cvxcore\n",
      "  creating build/temp.macosx-10.6-x86_64-3.5/cvxpy/cvxcore/src\n",
      "  creating build/temp.macosx-10.6-x86_64-3.5/cvxpy/cvxcore/python\n",
      "  /usr/bin/clang -Wno-unused-result -Wsign-compare -Wunreachable-code -DNDEBUG -g -fwrapv -O3 -Wall -Wstrict-prototypes -I/anaconda3/envs/zipline/include -arch x86_64 -I/anaconda3/envs/zipline/include -arch x86_64 -Icvxpy/cvxcore/src/ -Icvxpy/cvxcore/python/ -Icvxpy/cvxcore/include/Eigen -I/anaconda3/envs/zipline/lib/python3.5/site-packages/numpy/core/include -I/anaconda3/envs/zipline/include/python3.5m -c cvxpy/cvxcore/src/cvxcore.cpp -o build/temp.macosx-10.6-x86_64-3.5/cvxpy/cvxcore/src/cvxcore.o\n",
      "  xcrun: error: invalid active developer path (/Library/Developer/CommandLineTools), missing xcrun at: /Library/Developer/CommandLineTools/usr/bin/xcrun\n",
      "  error: command '/usr/bin/clang' failed with exit status 1\n",
      "  \n",
      "  ----------------------------------------\n",
      "\u001b[31m  Failed building wheel for cvxpy\u001b[0m\n",
      "\u001b[?25h  Running setup.py clean for cvxpy\n"
     ]
    },
    {
     "name": "stdout",
     "output_type": "stream",
     "text": [
      "  Building wheel for plotly (setup.py) ... \u001b[?25ldone\n",
      "\u001b[?25h  Stored in directory: /Users/martinfoot/Library/Caches/pip/wheels/98/54/81/dd92d5b0858fac680cd7bdb8800eb26c001dd9f5dc8b1bc0ba\n",
      "  Building wheel for ecos (setup.py) ... \u001b[?25lerror\n",
      "  Complete output from command /anaconda3/envs/zipline/bin/python -u -c \"import setuptools, tokenize;__file__='/private/var/folders/nr/9n_jv63d2kj126c8f23bzk840000gn/T/pip-install-08yd5m1s/ecos/setup.py';f=getattr(tokenize, 'open', open)(__file__);code=f.read().replace('\\r\\n', '\\n');f.close();exec(compile(code, __file__, 'exec'))\" bdist_wheel -d /private/var/folders/nr/9n_jv63d2kj126c8f23bzk840000gn/T/pip-wheel-231hyq_p --python-tag cp35:\n",
      "  running bdist_wheel\n",
      "  running build\n",
      "  running build_py\n",
      "  creating build\n",
      "  creating build/lib.macosx-10.6-x86_64-3.5\n",
      "  creating build/lib.macosx-10.6-x86_64-3.5/ecos\n",
      "  copying src/ecos/version.py -> build/lib.macosx-10.6-x86_64-3.5/ecos\n",
      "  copying src/ecos/__init__.py -> build/lib.macosx-10.6-x86_64-3.5/ecos\n",
      "  copying src/ecos/ecos.py -> build/lib.macosx-10.6-x86_64-3.5/ecos\n",
      "  running build_ext\n",
      "  building '_ecos' extension\n",
      "  creating build/temp.macosx-10.6-x86_64-3.5\n",
      "  creating build/temp.macosx-10.6-x86_64-3.5/src\n",
      "  creating build/temp.macosx-10.6-x86_64-3.5/ecos\n",
      "  creating build/temp.macosx-10.6-x86_64-3.5/ecos/external\n",
      "  creating build/temp.macosx-10.6-x86_64-3.5/ecos/external/ldl\n",
      "  creating build/temp.macosx-10.6-x86_64-3.5/ecos/external/ldl/src\n",
      "  creating build/temp.macosx-10.6-x86_64-3.5/ecos/src\n",
      "  creating build/temp.macosx-10.6-x86_64-3.5/ecos/external/amd\n",
      "  creating build/temp.macosx-10.6-x86_64-3.5/ecos/external/amd/src\n",
      "  creating build/temp.macosx-10.6-x86_64-3.5/ecos/ecos_bb\n",
      "  /usr/bin/clang -Wno-unused-result -Wsign-compare -Wunreachable-code -DNDEBUG -g -fwrapv -O3 -Wall -Wstrict-prototypes -I/anaconda3/envs/zipline/include -arch x86_64 -I/anaconda3/envs/zipline/include -arch x86_64 -DPYTHON -DDLONG -DLDL_LONG -DCTRLC=1 -Iecos/include -Iecos/external/amd/include -Iecos/external/ldl/include -Iecos/external/SuiteSparse_config -I/anaconda3/envs/zipline/include/python3.5m -I/anaconda3/envs/zipline/lib/python3.5/site-packages/numpy/core/include -c src/ecosmodule.c -o build/temp.macosx-10.6-x86_64-3.5/src/ecosmodule.o\n",
      "  xcrun: error: invalid active developer path (/Library/Developer/CommandLineTools), missing xcrun at: /Library/Developer/CommandLineTools/usr/bin/xcrun\n",
      "  error: command '/usr/bin/clang' failed with exit status 1\n",
      "  \n",
      "  ----------------------------------------\n",
      "\u001b[31m  Failed building wheel for ecos\u001b[0m\n",
      "\u001b[?25h  Running setup.py clean for ecos\n",
      "  Building wheel for multiprocess (setup.py) ... \u001b[?25ldone\n",
      "\u001b[?25h  Stored in directory: /Users/martinfoot/Library/Caches/pip/wheels/3a/ed/51/77c833462c3e757ce50c4b2b68bdf53f5d1745542fe567d740\n",
      "  Building wheel for future (setup.py) ... \u001b[?25ldone\n",
      "\u001b[?25h  Stored in directory: /Users/martinfoot/Library/Caches/pip/wheels/0c/61/d2/d6b7317325828fbb39ee6ad559dbe4664d0896da4721bf379e\n",
      "  Building wheel for dill (setup.py) ... \u001b[?25ldone\n",
      "\u001b[?25h  Stored in directory: /Users/martinfoot/Library/Caches/pip/wheels/5b/d7/0f/e58eae695403de585269f4e4a94e0cd6ca60ec0c202936fa4a\n",
      "Successfully built plotly multiprocess future dill\n",
      "Failed to build cvxpy ecos\n",
      "Installing collected packages: colour, numpy, scipy, future, osqp, ecos, scs, dill, multiprocess, cvxpy, pandas, plotly, tqdm\n",
      "  Found existing installation: numpy 1.14.0\n",
      "    Uninstalling numpy-1.14.0:\n",
      "      Successfully uninstalled numpy-1.14.0\n",
      "  Found existing installation: scipy 1.1.0\n",
      "    Uninstalling scipy-1.1.0:\n",
      "      Successfully uninstalled scipy-1.1.0\n",
      "  Running setup.py install for ecos ... \u001b[?25lerror\n",
      "    Complete output from command /anaconda3/envs/zipline/bin/python -u -c \"import setuptools, tokenize;__file__='/private/var/folders/nr/9n_jv63d2kj126c8f23bzk840000gn/T/pip-install-08yd5m1s/ecos/setup.py';f=getattr(tokenize, 'open', open)(__file__);code=f.read().replace('\\r\\n', '\\n');f.close();exec(compile(code, __file__, 'exec'))\" install --record /private/var/folders/nr/9n_jv63d2kj126c8f23bzk840000gn/T/pip-record-qrbul2ov/install-record.txt --single-version-externally-managed --compile:\n",
      "    running install\n",
      "    running build\n",
      "    running build_py\n",
      "    creating build\n",
      "    creating build/lib.macosx-10.6-x86_64-3.5\n",
      "    creating build/lib.macosx-10.6-x86_64-3.5/ecos\n",
      "    copying src/ecos/version.py -> build/lib.macosx-10.6-x86_64-3.5/ecos\n",
      "    copying src/ecos/__init__.py -> build/lib.macosx-10.6-x86_64-3.5/ecos\n",
      "    copying src/ecos/ecos.py -> build/lib.macosx-10.6-x86_64-3.5/ecos\n",
      "    running build_ext\n",
      "    building '_ecos' extension\n",
      "    creating build/temp.macosx-10.6-x86_64-3.5\n",
      "    creating build/temp.macosx-10.6-x86_64-3.5/src\n",
      "    creating build/temp.macosx-10.6-x86_64-3.5/ecos\n",
      "    creating build/temp.macosx-10.6-x86_64-3.5/ecos/external\n",
      "    creating build/temp.macosx-10.6-x86_64-3.5/ecos/external/ldl\n",
      "    creating build/temp.macosx-10.6-x86_64-3.5/ecos/external/ldl/src\n",
      "    creating build/temp.macosx-10.6-x86_64-3.5/ecos/src\n",
      "    creating build/temp.macosx-10.6-x86_64-3.5/ecos/external/amd\n",
      "    creating build/temp.macosx-10.6-x86_64-3.5/ecos/external/amd/src\n",
      "    creating build/temp.macosx-10.6-x86_64-3.5/ecos/ecos_bb\n",
      "    /usr/bin/clang -Wno-unused-result -Wsign-compare -Wunreachable-code -DNDEBUG -g -fwrapv -O3 -Wall -Wstrict-prototypes -I/anaconda3/envs/zipline/include -arch x86_64 -I/anaconda3/envs/zipline/include -arch x86_64 -DPYTHON -DDLONG -DLDL_LONG -DCTRLC=1 -Iecos/include -Iecos/external/amd/include -Iecos/external/ldl/include -Iecos/external/SuiteSparse_config -I/anaconda3/envs/zipline/include/python3.5m -I/anaconda3/envs/zipline/lib/python3.5/site-packages/numpy/core/include -c src/ecosmodule.c -o build/temp.macosx-10.6-x86_64-3.5/src/ecosmodule.o\n",
      "    xcrun: error: invalid active developer path (/Library/Developer/CommandLineTools), missing xcrun at: /Library/Developer/CommandLineTools/usr/bin/xcrun\n",
      "    error: command '/usr/bin/clang' failed with exit status 1\n",
      "    \n",
      "    ----------------------------------------\n",
      "\u001b[31mCommand \"/anaconda3/envs/zipline/bin/python -u -c \"import setuptools, tokenize;__file__='/private/var/folders/nr/9n_jv63d2kj126c8f23bzk840000gn/T/pip-install-08yd5m1s/ecos/setup.py';f=getattr(tokenize, 'open', open)(__file__);code=f.read().replace('\\r\\n', '\\n');f.close();exec(compile(code, __file__, 'exec'))\" install --record /private/var/folders/nr/9n_jv63d2kj126c8f23bzk840000gn/T/pip-record-qrbul2ov/install-record.txt --single-version-externally-managed --compile\" failed with error code 1 in /private/var/folders/nr/9n_jv63d2kj126c8f23bzk840000gn/T/pip-install-08yd5m1s/ecos/\u001b[0m\n",
      "\u001b[33mYou are using pip version 19.0.1, however version 19.0.2 is available.\n",
      "You should consider upgrading via the 'pip install --upgrade pip' command.\u001b[0m\n",
      "\u001b[?25h"
     ]
    }
   ],
   "source": [
    "import sys\n",
    "!{sys.executable} -m pip install -r requirements.txt"
   ]
  },
  {
   "cell_type": "markdown",
   "metadata": {},
   "source": [
    "### Load Packages"
   ]
  },
  {
   "cell_type": "code",
   "execution_count": 2,
   "metadata": {},
   "outputs": [],
   "source": [
    "import pandas as pd\n",
    "import numpy as np\n",
    "import os\n",
    "import matplotlib.pyplot as plt"
   ]
  },
  {
   "cell_type": "code",
   "execution_count": 3,
   "metadata": {},
   "outputs": [],
   "source": [
    "import helper"
   ]
  },
  {
   "cell_type": "code",
   "execution_count": 5,
   "metadata": {},
   "outputs": [],
   "source": [
    "#import project_helper"
   ]
  },
  {
   "cell_type": "code",
   "execution_count": 6,
   "metadata": {},
   "outputs": [],
   "source": [
    "import project_tests"
   ]
  },
  {
   "cell_type": "markdown",
   "metadata": {},
   "source": [
    "## Market Data\n",
    "### Load Data\n",
    "The data we use for most of the projects is end of day data. This contains data for many stocks, but we'll be looking at stocks in the S&P 500. We also made things a little easier to run by narrowing down our range of time period instead of using all of the data."
   ]
  },
  {
   "cell_type": "code",
   "execution_count": 7,
   "metadata": {},
   "outputs": [
    {
     "data": {
      "text/html": [
       "<div>\n",
       "<style scoped>\n",
       "    .dataframe tbody tr th:only-of-type {\n",
       "        vertical-align: middle;\n",
       "    }\n",
       "\n",
       "    .dataframe tbody tr th {\n",
       "        vertical-align: top;\n",
       "    }\n",
       "\n",
       "    .dataframe thead th {\n",
       "        text-align: right;\n",
       "    }\n",
       "</style>\n",
       "<table border=\"1\" class=\"dataframe\">\n",
       "  <thead>\n",
       "    <tr style=\"text-align: right;\">\n",
       "      <th></th>\n",
       "      <th>date</th>\n",
       "      <th>ticker</th>\n",
       "      <th>adj_close</th>\n",
       "    </tr>\n",
       "  </thead>\n",
       "  <tbody>\n",
       "    <tr>\n",
       "      <th>0</th>\n",
       "      <td>2013-07-01</td>\n",
       "      <td>A</td>\n",
       "      <td>29.99418563</td>\n",
       "    </tr>\n",
       "    <tr>\n",
       "      <th>1</th>\n",
       "      <td>2013-07-02</td>\n",
       "      <td>A</td>\n",
       "      <td>29.65013670</td>\n",
       "    </tr>\n",
       "    <tr>\n",
       "      <th>2</th>\n",
       "      <td>2013-07-03</td>\n",
       "      <td>A</td>\n",
       "      <td>29.70518453</td>\n",
       "    </tr>\n",
       "    <tr>\n",
       "      <th>3</th>\n",
       "      <td>2013-07-05</td>\n",
       "      <td>A</td>\n",
       "      <td>30.43456826</td>\n",
       "    </tr>\n",
       "    <tr>\n",
       "      <th>4</th>\n",
       "      <td>2013-07-08</td>\n",
       "      <td>A</td>\n",
       "      <td>30.52402098</td>\n",
       "    </tr>\n",
       "  </tbody>\n",
       "</table>\n",
       "</div>"
      ],
      "text/plain": [
       "        date ticker   adj_close\n",
       "0 2013-07-01      A 29.99418563\n",
       "1 2013-07-02      A 29.65013670\n",
       "2 2013-07-03      A 29.70518453\n",
       "3 2013-07-05      A 30.43456826\n",
       "4 2013-07-08      A 30.52402098"
      ]
     },
     "execution_count": 7,
     "metadata": {},
     "output_type": "execute_result"
    }
   ],
   "source": [
    "#df = pd.read_csv('../../data/project_1/eod-quotemedia.csv', parse_dates=['date'], index_col=False)\n",
    "fpath = '/Users/martinfoot/Library/Mobile Documents/com~apple~CloudDocs/DATA SCIENCE/Udacity/AI for Trading/M1 - Momentum/data'\n",
    "fh = os.path.join(fpath, 'AI4T_Project1.csv')\n",
    "df = pd.read_csv(fh, usecols=['date', 'ticker', 'adj_close'], parse_dates=[0])\n",
    "df.head()"
   ]
  },
  {
   "cell_type": "code",
   "execution_count": 9,
   "metadata": {},
   "outputs": [],
   "source": [
    "close = df.reset_index().pivot(index='date', columns='ticker', values='adj_close')"
   ]
  },
  {
   "cell_type": "code",
   "execution_count": 4,
   "metadata": {},
   "outputs": [],
   "source": [
    "#df.to_csv('AI4T_Project1.csv')"
   ]
  },
  {
   "cell_type": "markdown",
   "metadata": {},
   "source": [
    "### View Data\n",
    "Run the cell below to see what the data looks like for `close`."
   ]
  },
  {
   "cell_type": "code",
   "execution_count": 10,
   "metadata": {
    "scrolled": false
   },
   "outputs": [
    {
     "data": {
      "text/html": [
       "<div>\n",
       "<style scoped>\n",
       "    .dataframe tbody tr th:only-of-type {\n",
       "        vertical-align: middle;\n",
       "    }\n",
       "\n",
       "    .dataframe tbody tr th {\n",
       "        vertical-align: top;\n",
       "    }\n",
       "\n",
       "    .dataframe thead th {\n",
       "        text-align: right;\n",
       "    }\n",
       "</style>\n",
       "<table border=\"1\" class=\"dataframe\">\n",
       "  <thead>\n",
       "    <tr style=\"text-align: right;\">\n",
       "      <th>ticker</th>\n",
       "      <th>A</th>\n",
       "      <th>AAL</th>\n",
       "      <th>AAP</th>\n",
       "      <th>AAPL</th>\n",
       "      <th>ABBV</th>\n",
       "      <th>ABC</th>\n",
       "      <th>ABT</th>\n",
       "      <th>ACN</th>\n",
       "      <th>ADBE</th>\n",
       "      <th>ADI</th>\n",
       "      <th>...</th>\n",
       "      <th>XL</th>\n",
       "      <th>XLNX</th>\n",
       "      <th>XOM</th>\n",
       "      <th>XRAY</th>\n",
       "      <th>XRX</th>\n",
       "      <th>XYL</th>\n",
       "      <th>YUM</th>\n",
       "      <th>ZBH</th>\n",
       "      <th>ZION</th>\n",
       "      <th>ZTS</th>\n",
       "    </tr>\n",
       "    <tr>\n",
       "      <th>date</th>\n",
       "      <th></th>\n",
       "      <th></th>\n",
       "      <th></th>\n",
       "      <th></th>\n",
       "      <th></th>\n",
       "      <th></th>\n",
       "      <th></th>\n",
       "      <th></th>\n",
       "      <th></th>\n",
       "      <th></th>\n",
       "      <th></th>\n",
       "      <th></th>\n",
       "      <th></th>\n",
       "      <th></th>\n",
       "      <th></th>\n",
       "      <th></th>\n",
       "      <th></th>\n",
       "      <th></th>\n",
       "      <th></th>\n",
       "      <th></th>\n",
       "      <th></th>\n",
       "    </tr>\n",
       "  </thead>\n",
       "  <tbody>\n",
       "    <tr>\n",
       "      <th>2013-07-01</th>\n",
       "      <td>29.99418563</td>\n",
       "      <td>16.17609308</td>\n",
       "      <td>81.13821681</td>\n",
       "      <td>53.10917319</td>\n",
       "      <td>34.92447839</td>\n",
       "      <td>50.86319750</td>\n",
       "      <td>31.42538772</td>\n",
       "      <td>64.69409505</td>\n",
       "      <td>46.23500000</td>\n",
       "      <td>39.91336014</td>\n",
       "      <td>...</td>\n",
       "      <td>27.66879066</td>\n",
       "      <td>35.28892781</td>\n",
       "      <td>76.32080247</td>\n",
       "      <td>40.02387348</td>\n",
       "      <td>22.10666494</td>\n",
       "      <td>25.75338607</td>\n",
       "      <td>45.48038323</td>\n",
       "      <td>71.89882693</td>\n",
       "      <td>27.85858718</td>\n",
       "      <td>29.44789315</td>\n",
       "    </tr>\n",
       "    <tr>\n",
       "      <th>2013-07-02</th>\n",
       "      <td>29.65013670</td>\n",
       "      <td>15.81983388</td>\n",
       "      <td>80.72207258</td>\n",
       "      <td>54.31224742</td>\n",
       "      <td>35.42807578</td>\n",
       "      <td>50.69676639</td>\n",
       "      <td>31.27288084</td>\n",
       "      <td>64.71204071</td>\n",
       "      <td>46.03000000</td>\n",
       "      <td>39.86057632</td>\n",
       "      <td>...</td>\n",
       "      <td>27.54228410</td>\n",
       "      <td>35.05903252</td>\n",
       "      <td>76.60816761</td>\n",
       "      <td>39.96552964</td>\n",
       "      <td>22.08273998</td>\n",
       "      <td>25.61367511</td>\n",
       "      <td>45.40266113</td>\n",
       "      <td>72.93417195</td>\n",
       "      <td>28.03893238</td>\n",
       "      <td>28.57244125</td>\n",
       "    </tr>\n",
       "    <tr>\n",
       "      <th>2013-07-03</th>\n",
       "      <td>29.70518453</td>\n",
       "      <td>16.12794994</td>\n",
       "      <td>81.23729877</td>\n",
       "      <td>54.61204262</td>\n",
       "      <td>35.44486235</td>\n",
       "      <td>50.93716689</td>\n",
       "      <td>30.72565028</td>\n",
       "      <td>65.21451912</td>\n",
       "      <td>46.42000000</td>\n",
       "      <td>40.18607651</td>\n",
       "      <td>...</td>\n",
       "      <td>27.33445191</td>\n",
       "      <td>35.28008569</td>\n",
       "      <td>76.65042719</td>\n",
       "      <td>40.00442554</td>\n",
       "      <td>22.20236479</td>\n",
       "      <td>25.73475794</td>\n",
       "      <td>46.06329899</td>\n",
       "      <td>72.30145844</td>\n",
       "      <td>28.18131017</td>\n",
       "      <td>28.16838652</td>\n",
       "    </tr>\n",
       "    <tr>\n",
       "      <th>2013-07-05</th>\n",
       "      <td>30.43456826</td>\n",
       "      <td>16.21460758</td>\n",
       "      <td>81.82188233</td>\n",
       "      <td>54.17338125</td>\n",
       "      <td>35.85613355</td>\n",
       "      <td>51.37173702</td>\n",
       "      <td>31.32670680</td>\n",
       "      <td>66.07591068</td>\n",
       "      <td>47.00000000</td>\n",
       "      <td>40.65233352</td>\n",
       "      <td>...</td>\n",
       "      <td>27.69589920</td>\n",
       "      <td>35.80177117</td>\n",
       "      <td>77.39419581</td>\n",
       "      <td>40.67537968</td>\n",
       "      <td>22.58516418</td>\n",
       "      <td>26.06075017</td>\n",
       "      <td>46.41304845</td>\n",
       "      <td>73.16424628</td>\n",
       "      <td>29.39626730</td>\n",
       "      <td>29.02459772</td>\n",
       "    </tr>\n",
       "    <tr>\n",
       "      <th>2013-07-08</th>\n",
       "      <td>30.52402098</td>\n",
       "      <td>16.31089385</td>\n",
       "      <td>82.95141667</td>\n",
       "      <td>53.86579916</td>\n",
       "      <td>36.66188936</td>\n",
       "      <td>52.03746147</td>\n",
       "      <td>31.76628544</td>\n",
       "      <td>66.82065546</td>\n",
       "      <td>46.62500000</td>\n",
       "      <td>40.25645492</td>\n",
       "      <td>...</td>\n",
       "      <td>27.98505704</td>\n",
       "      <td>35.20050655</td>\n",
       "      <td>77.96892611</td>\n",
       "      <td>40.64620776</td>\n",
       "      <td>22.48946433</td>\n",
       "      <td>26.22840332</td>\n",
       "      <td>46.95062632</td>\n",
       "      <td>73.89282298</td>\n",
       "      <td>29.57661249</td>\n",
       "      <td>29.76536472</td>\n",
       "    </tr>\n",
       "  </tbody>\n",
       "</table>\n",
       "<p>5 rows × 495 columns</p>\n",
       "</div>"
      ],
      "text/plain": [
       "ticker               A         AAL         AAP        AAPL        ABBV  \\\n",
       "date                                                                     \n",
       "2013-07-01 29.99418563 16.17609308 81.13821681 53.10917319 34.92447839   \n",
       "2013-07-02 29.65013670 15.81983388 80.72207258 54.31224742 35.42807578   \n",
       "2013-07-03 29.70518453 16.12794994 81.23729877 54.61204262 35.44486235   \n",
       "2013-07-05 30.43456826 16.21460758 81.82188233 54.17338125 35.85613355   \n",
       "2013-07-08 30.52402098 16.31089385 82.95141667 53.86579916 36.66188936   \n",
       "\n",
       "ticker             ABC         ABT         ACN        ADBE         ADI  \\\n",
       "date                                                                     \n",
       "2013-07-01 50.86319750 31.42538772 64.69409505 46.23500000 39.91336014   \n",
       "2013-07-02 50.69676639 31.27288084 64.71204071 46.03000000 39.86057632   \n",
       "2013-07-03 50.93716689 30.72565028 65.21451912 46.42000000 40.18607651   \n",
       "2013-07-05 51.37173702 31.32670680 66.07591068 47.00000000 40.65233352   \n",
       "2013-07-08 52.03746147 31.76628544 66.82065546 46.62500000 40.25645492   \n",
       "\n",
       "ticker         ...              XL        XLNX         XOM        XRAY  \\\n",
       "date           ...                                                       \n",
       "2013-07-01     ...     27.66879066 35.28892781 76.32080247 40.02387348   \n",
       "2013-07-02     ...     27.54228410 35.05903252 76.60816761 39.96552964   \n",
       "2013-07-03     ...     27.33445191 35.28008569 76.65042719 40.00442554   \n",
       "2013-07-05     ...     27.69589920 35.80177117 77.39419581 40.67537968   \n",
       "2013-07-08     ...     27.98505704 35.20050655 77.96892611 40.64620776   \n",
       "\n",
       "ticker             XRX         XYL         YUM         ZBH        ZION  \\\n",
       "date                                                                     \n",
       "2013-07-01 22.10666494 25.75338607 45.48038323 71.89882693 27.85858718   \n",
       "2013-07-02 22.08273998 25.61367511 45.40266113 72.93417195 28.03893238   \n",
       "2013-07-03 22.20236479 25.73475794 46.06329899 72.30145844 28.18131017   \n",
       "2013-07-05 22.58516418 26.06075017 46.41304845 73.16424628 29.39626730   \n",
       "2013-07-08 22.48946433 26.22840332 46.95062632 73.89282298 29.57661249   \n",
       "\n",
       "ticker             ZTS  \n",
       "date                    \n",
       "2013-07-01 29.44789315  \n",
       "2013-07-02 28.57244125  \n",
       "2013-07-03 28.16838652  \n",
       "2013-07-05 29.02459772  \n",
       "2013-07-08 29.76536472  \n",
       "\n",
       "[5 rows x 495 columns]"
      ]
     },
     "execution_count": 10,
     "metadata": {},
     "output_type": "execute_result"
    }
   ],
   "source": [
    "#project_helper.print_dataframe(close)\n",
    "close.head()"
   ]
  },
  {
   "cell_type": "markdown",
   "metadata": {},
   "source": [
    "### Stock Example\n",
    "Let's see what a single stock looks like from the closing prices. For this example and future display examples in this project, we'll use Apple's stock (AAPL). If we tried to graph all the stocks, it would be too much information."
   ]
  },
  {
   "cell_type": "code",
   "execution_count": 11,
   "metadata": {},
   "outputs": [
    {
     "data": {
      "text/plain": [
       "<matplotlib.axes._subplots.AxesSubplot at 0x111ee5cc0>"
      ]
     },
     "execution_count": 11,
     "metadata": {},
     "output_type": "execute_result"
    },
    {
     "data": {
      "image/png": "[encoded data removed]",
      "text/plain": [
       "<matplotlib.figure.Figure at 0x10d2dc240>"
      ]
     },
     "metadata": {},
     "output_type": "display_data"
    }
   ],
   "source": [
    "apple_ticker = 'AAPL'\n",
    "#project_helper.plot_stock(close[apple_ticker], '{} Stock'.format(apple_ticker))\n",
    "close['AAPL'].plot()"
   ]
  },
  {
   "cell_type": "markdown",
   "metadata": {},
   "source": [
    "## Resample Adjusted Prices\n",
    "\n",
    "The trading signal you'll develop in this project does not need to be based on daily prices, for instance, you can use month-end prices to perform trading once a month. To do this, you must first resample the daily adjusted closing prices into monthly buckets, and select the last observation of each month.\n",
    "\n",
    "Implement the `resample_prices` to resample `close_prices` at the sampling frequency of `freq`."
   ]
  },
  {
   "cell_type": "code",
   "execution_count": 12,
   "metadata": {},
   "outputs": [
    {
     "name": "stdout",
     "output_type": "stream",
     "text": [
      "Tests Passed\n"
     ]
    }
   ],
   "source": [
    "def resample_prices(close_prices, freq='M'):\n",
    "    \"\"\"\n",
    "    Resample close prices for each ticker at specified frequency.\n",
    "    \n",
    "    Parameters\n",
    "    ----------\n",
    "    close_prices : DataFrame\n",
    "        Close prices for each ticker and date\n",
    "    freq : str\n",
    "        What frequency to sample at\n",
    "        For valid freq choices, see http://pandas.pydata.org/pandas-docs/stable/timeseries.html#offset-aliases\n",
    "    \n",
    "    Returns\n",
    "    -------\n",
    "    prices_resampled : DataFrame\n",
    "        Resampled prices for each ticker and date\n",
    "    \"\"\"\n",
    "    # TODO: Implement Function\n",
    "    \n",
    "    return close_prices.resample(freq).last()\n",
    "\n",
    "project_tests.test_resample_prices(resample_prices)"
   ]
  },
  {
   "cell_type": "markdown",
   "metadata": {},
   "source": [
    "### View Data\n",
    "Let's apply this function to `close` and view the results."
   ]
  },
  {
   "cell_type": "code",
   "execution_count": 29,
   "metadata": {
    "scrolled": false
   },
   "outputs": [
    {
     "data": {
      "text/plain": [
       "<matplotlib.axes._subplots.AxesSubplot at 0x1130f82e8>"
      ]
     },
     "execution_count": 29,
     "metadata": {},
     "output_type": "execute_result"
    },
    {
     "data": {
      "image/png": "[encoded data removed]",
      "text/plain": [
       "<matplotlib.figure.Figure at 0x113188198>"
      ]
     },
     "metadata": {},
     "output_type": "display_data"
    }
   ],
   "source": [
    "monthly_close = resample_prices(close)\n",
    "'''project_helper.plot_resampled_prices(\n",
    "    monthly_close.loc[:, apple_ticker],\n",
    "    close.loc[:, apple_ticker],\n",
    "    '{} Stock - Close Vs Monthly Close'.format(apple_ticker))'''\n",
    "close['AAPL'].plot()\n",
    "monthly_close.AAPL.plot()"
   ]
  },
  {
   "cell_type": "markdown",
   "metadata": {},
   "source": [
    "## Compute Log Returns\n",
    "\n",
    "Compute log returns ($R_t$) from prices ($P_t$) as your primary momentum indicator:\n",
    "\n",
    "$$R_t = log_e(P_t) - log_e(P_{t-1})$$\n",
    "\n",
    "Implement the `compute_log_returns` function below, such that it accepts a dataframe (like one returned by `resample_prices`), and produces a similar dataframe of log returns. Use Numpy's [log function](https://docs.scipy.org/doc/numpy/reference/generated/numpy.log.html) to help you calculate the log returns."
   ]
  },
  {
   "cell_type": "code",
   "execution_count": 30,
   "metadata": {},
   "outputs": [
    {
     "name": "stdout",
     "output_type": "stream",
     "text": [
      "Tests Passed\n"
     ]
    }
   ],
   "source": [
    "def compute_log_returns(prices):\n",
    "    \"\"\"\n",
    "    Compute log returns for each ticker.\n",
    "    \n",
    "    Parameters\n",
    "    ----------\n",
    "    prices : DataFrame\n",
    "        Prices for each ticker and date\n",
    "    \n",
    "    Returns\n",
    "    -------\n",
    "    log_returns : DataFrame\n",
    "        Log returns for each ticker and date\n",
    "    \"\"\"\n",
    "    # TODO: Implement Function\n",
    "    \n",
    "    return np.log(prices) - np.log(prices.shift(1))\n",
    "\n",
    "project_tests.test_compute_log_returns(compute_log_returns)"
   ]
  },
  {
   "cell_type": "markdown",
   "metadata": {},
   "source": [
    "### View Data\n",
    "Using the same data returned from `resample_prices`, we'll generate the log returns."
   ]
  },
  {
   "cell_type": "code",
   "execution_count": 34,
   "metadata": {},
   "outputs": [
    {
     "data": {
      "text/plain": [
       "<matplotlib.lines.Line2D at 0x113299da0>"
      ]
     },
     "execution_count": 34,
     "metadata": {},
     "output_type": "execute_result"
    },
    {
     "data": {
      "image/png": "[encoded data removed]",
      "text/plain": [
       "<matplotlib.figure.Figure at 0x113401390>"
      ]
     },
     "metadata": {},
     "output_type": "display_data"
    }
   ],
   "source": [
    "monthly_close_returns = compute_log_returns(monthly_close)\n",
    "'''project_helper.plot_returns(\n",
    "    monthly_close_returns.loc[:, apple_ticker],\n",
    "    'Log Returns of {} Stock (Monthly)'.format(apple_ticker))'''\n",
    "monthly_close_returns.AAPL.plot()\n",
    "plt.axhline(y = 0, color='gray', linestyle='--', linewidth=0.7)"
   ]
  },
  {
   "cell_type": "markdown",
   "metadata": {},
   "source": [
    "## Shift Returns\n",
    "Implement the `shift_returns` function to shift the log returns to the previous or future returns in the time series. For example, the parameter `shift_n` is 2 and `returns` is the following:\n",
    "\n",
    "```\n",
    "                           Returns\n",
    "               A         B         C         D\n",
    "2013-07-08     0.015     0.082     0.096     0.020     ...\n",
    "2013-07-09     0.037     0.095     0.027     0.063     ...\n",
    "2013-07-10     0.094     0.001     0.093     0.019     ...\n",
    "2013-07-11     0.092     0.057     0.069     0.087     ...\n",
    "...            ...       ...       ...       ...\n",
    "```\n",
    "\n",
    "the output of the `shift_returns` function would be:\n",
    "```\n",
    "                        Shift Returns\n",
    "               A         B         C         D\n",
    "2013-07-08     NaN       NaN       NaN       NaN       ...\n",
    "2013-07-09     NaN       NaN       NaN       NaN       ...\n",
    "2013-07-10     0.015     0.082     0.096     0.020     ...\n",
    "2013-07-11     0.037     0.095     0.027     0.063     ...\n",
    "...            ...       ...       ...       ...\n",
    "```\n",
    "Using the same `returns` data as above, the `shift_returns` function should generate the following with `shift_n` as -2:\n",
    "```\n",
    "                        Shift Returns\n",
    "               A         B         C         D\n",
    "2013-07-08     0.094     0.001     0.093     0.019     ...\n",
    "2013-07-09     0.092     0.057     0.069     0.087     ...\n",
    "...            ...       ...       ...       ...       ...\n",
    "...            ...       ...       ...       ...       ...\n",
    "...            NaN       NaN       NaN       NaN       ...\n",
    "...            NaN       NaN       NaN       NaN       ...\n",
    "```\n",
    "_Note: The \"...\" represents data points we're not showing._"
   ]
  },
  {
   "cell_type": "code",
   "execution_count": 35,
   "metadata": {},
   "outputs": [
    {
     "name": "stdout",
     "output_type": "stream",
     "text": [
      "Tests Passed\n"
     ]
    }
   ],
   "source": [
    "def shift_returns(returns, shift_n):\n",
    "    \"\"\"\n",
    "    Generate shifted returns\n",
    "    \n",
    "    Parameters\n",
    "    ----------\n",
    "    returns : DataFrame\n",
    "        Returns for each ticker and date\n",
    "    shift_n : int\n",
    "        Number of periods to move, can be positive or negative\n",
    "    \n",
    "    Returns\n",
    "    -------\n",
    "    shifted_returns : DataFrame\n",
    "        Shifted returns for each ticker and date\n",
    "    \"\"\"\n",
    "    # TODO: Implement Function\n",
    "    \n",
    "    return returns.shift(shift_n)\n",
    "\n",
    "project_tests.test_shift_returns(shift_returns)"
   ]
  },
  {
   "cell_type": "markdown",
   "metadata": {},
   "source": [
    "### View Data\n",
    "Let's get the previous month's and next month's returns."
   ]
  },
  {
   "cell_type": "code",
   "execution_count": 36,
   "metadata": {},
   "outputs": [
    {
     "data": {
      "text/plain": [
       "<matplotlib.lines.Line2D at 0x1129222e8>"
      ]
     },
     "execution_count": 36,
     "metadata": {},
     "output_type": "execute_result"
    },
    {
     "data": {
      "image/png": "[encoded data removed]",
      "text/plain": [
       "<matplotlib.figure.Figure at 0x1142f74a8>"
      ]
     },
     "metadata": {},
     "output_type": "display_data"
    }
   ],
   "source": [
    "prev_returns = shift_returns(monthly_close_returns, 1)\n",
    "lookahead_returns = shift_returns(monthly_close_returns, -1)\n",
    "\n",
    "'''project_helper.plot_shifted_returns(\n",
    "    prev_returns.loc[:, apple_ticker],\n",
    "    monthly_close_returns.loc[:, apple_ticker],\n",
    "    'Previous Returns of {} Stock'.format(apple_ticker))\n",
    "project_helper.plot_shifted_returns(\n",
    "    lookahead_returns.loc[:, apple_ticker],\n",
    "    monthly_close_returns.loc[:, apple_ticker],\n",
    "    'Lookahead Returns of {} Stock'.format(apple_ticker))'''\n",
    "\n",
    "#prev_returns.AAPL.plot()\n",
    "lookahead_returns.AAPL.plot()\n",
    "plt.axhline(y = 0, color='gray', linestyle='--', linewidth=0.7)"
   ]
  },
  {
   "cell_type": "markdown",
   "metadata": {},
   "source": [
    "## Generate Trading Signal\n",
    "\n",
    "A trading signal is a sequence of trading actions, or results that can be used to take trading actions. A common form is to produce a \"long\" and \"short\" portfolio of stocks on each date (e.g. end of each month, or whatever frequency you desire to trade at). This signal can be interpreted as rebalancing your portfolio on each of those dates, entering long (\"buy\") and short (\"sell\") positions as indicated.\n",
    "\n",
    "Here's a strategy that we will try:\n",
    "> For each month-end observation period, rank the stocks by _previous_ returns, from the highest to the lowest. Select the top performing stocks for the long portfolio, and the bottom performing stocks for the short portfolio.\n",
    "\n",
    "Implement the `get_top_n` function to get the top performing stock for each month. Get the top performing stocks from `prev_returns` by assigning them a value of 1. For all other stocks, give them a value of 0. For example, using the following `prev_returns`:\n",
    "\n",
    "```\n",
    "                                     Previous Returns\n",
    "               A         B         C         D         E         F         G\n",
    "2013-07-08     0.015     0.082     0.096     0.020     0.075     0.043     0.074\n",
    "2013-07-09     0.037     0.095     0.027     0.063     0.024     0.086     0.025\n",
    "...            ...       ...       ...       ...       ...       ...       ...\n",
    "```\n",
    "\n",
    "The function `get_top_n` with `top_n` set to 3 should return the following:\n",
    "```\n",
    "                                     Previous Returns\n",
    "               A         B         C         D         E         F         G\n",
    "2013-07-08     0         1         1         0         1         0         0\n",
    "2013-07-09     0         1         0         1         0         1         0\n",
    "...            ...       ...       ...       ...       ...       ...       ...\n",
    "```\n",
    "*Note: You may have to use Panda's [`DataFrame.iterrows`](https://pandas.pydata.org/pandas-docs/version/0.21/generated/pandas.DataFrame.iterrows.html) with [`Series.nlargest`](https://pandas.pydata.org/pandas-docs/version/0.21/generated/pandas.Series.nlargest.html) in order to implement the function. This is one of those cases where creating a vecorization solution is too difficult.*"
   ]
  },
  {
   "cell_type": "code",
   "execution_count": 37,
   "metadata": {
    "scrolled": true
   },
   "outputs": [
    {
     "name": "stdout",
     "output_type": "stream",
     "text": [
      "Tests Passed\n"
     ]
    }
   ],
   "source": [
    "def get_top_n(prev_returns, top_n):\n",
    "    \"\"\"\n",
    "    Select the top performing stocks\n",
    "    \n",
    "    Parameters\n",
    "    ----------\n",
    "    prev_returns : DataFrame\n",
    "        Previous shifted returns for each ticker and date\n",
    "    top_n : int\n",
    "        The number of top performing stocks to get\n",
    "    \n",
    "    Returns\n",
    "    -------\n",
    "    top_stocks : DataFrame\n",
    "        Top stocks for each ticker and date marked with a 1\n",
    "    \"\"\"\n",
    "    # TODO: Implement Function\n",
    "    top_stocks = prev_returns.copy()\n",
    "    for i in range(len(top_stocks)):\n",
    "        mask = top_stocks.iloc[i] >= top_stocks.iloc[i].nlargest(top_n).min()\n",
    "        mask = mask.astype(int)\n",
    "        top_stocks.iloc[i] = mask\n",
    "        \n",
    "    return top_stocks.astype(np.int64)\n",
    "\n",
    "project_tests.test_get_top_n(get_top_n)"
   ]
  },
  {
   "cell_type": "markdown",
   "metadata": {},
   "source": [
    "### View Data\n",
    "We want to get the best performing and worst performing stocks. To get the best performing stocks, we'll use the `get_top_n` function. To get the worst performing stocks, we'll also use the `get_top_n` function. However, we pass in `-1*prev_returns` instead of just `prev_returns`. Multiplying by negative one will flip all the positive returns to negative and negative returns to positive. Thus, it will return the worst performing stocks."
   ]
  },
  {
   "cell_type": "code",
   "execution_count": 19,
   "metadata": {},
   "outputs": [],
   "source": [
    "top_bottom_n = 50\n",
    "df_long = get_top_n(prev_returns, top_bottom_n)\n",
    "df_short = get_top_n(-1*prev_returns, top_bottom_n)"
   ]
  },
  {
   "cell_type": "code",
   "execution_count": 38,
   "metadata": {},
   "outputs": [],
   "source": [
    "# function from project helper:\n",
    "def print_top(df, name, top_n=10):\n",
    "    print('{} Most {}:'.format(top_n, name))\n",
    "    print(', '.join(df.sum().sort_values(ascending=False).index[:top_n].values.tolist()))"
   ]
  },
  {
   "cell_type": "code",
   "execution_count": 39,
   "metadata": {},
   "outputs": [
    {
     "name": "stdout",
     "output_type": "stream",
     "text": [
      "10 Most Longed Stocks:\n",
      "INCY, AMD, AVGO, NFX, SWKS, NFLX, ILMN, UAL, NVDA, MU\n",
      "10 Most Shorted Stocks:\n",
      "RRC, FCX, CHK, MRO, GPS, WYNN, DVN, FTI, SPLS, TRIP\n"
     ]
    }
   ],
   "source": [
    "print_top(df_long, 'Longed Stocks')\n",
    "print_top(df_short, 'Shorted Stocks')"
   ]
  },
  {
   "cell_type": "markdown",
   "metadata": {},
   "source": [
    "## Projected Returns\n",
    "It's now time to check if your trading signal has the potential to become profitable!\n",
    "\n",
    "We'll start by computing the net returns this portfolio would return. For simplicity, we'll assume every stock gets an equal dollar amount of investment. This makes it easier to compute a portfolio's returns as the simple arithmetic average of the individual stock returns.\n",
    "\n",
    "Implement the `portfolio_returns` function to compute the expected portfolio returns. Using `df_long` to indicate which stocks to long and `df_short` to indicate which stocks to short, calculate the returns using `lookahead_returns`. To help with calculation, we've provided you with `n_stocks` as the number of stocks we're investing in a single period."
   ]
  },
  {
   "cell_type": "code",
   "execution_count": 40,
   "metadata": {},
   "outputs": [
    {
     "name": "stdout",
     "output_type": "stream",
     "text": [
      "Tests Passed\n"
     ]
    }
   ],
   "source": [
    "def portfolio_returns(df_long, df_short, lookahead_returns, n_stocks):\n",
    "    \"\"\"\n",
    "    Compute expected returns for the portfolio, assuming equal investment in each long/short stock.\n",
    "    \n",
    "    Parameters\n",
    "    ----------\n",
    "    df_long : DataFrame\n",
    "        Top stocks for each ticker and date marked with a 1\n",
    "    df_short : DataFrame\n",
    "        Bottom stocks for each ticker and date marked with a 1\n",
    "    lookahead_returns : DataFrame\n",
    "        Lookahead returns for each ticker and date\n",
    "    n_stocks: int\n",
    "        The number number of stocks chosen for each month\n",
    "    \n",
    "    Returns\n",
    "    -------\n",
    "    portfolio_returns : DataFrame\n",
    "        Expected portfolio returns for each ticker and date\n",
    "    \"\"\"\n",
    "    # TODO: Implement Function\n",
    "    long_returns = df_long * lookahead_returns\n",
    "    short_returns = df_short * -1 * lookahead_returns\n",
    "    portfolio_returns = (long_returns + short_returns) / n_stocks\n",
    "        \n",
    "    return portfolio_returns\n",
    "\n",
    "project_tests.test_portfolio_returns(portfolio_returns)"
   ]
  },
  {
   "cell_type": "markdown",
   "metadata": {},
   "source": [
    "### View Data\n",
    "Time to see how the portfolio did."
   ]
  },
  {
   "cell_type": "code",
   "execution_count": 44,
   "metadata": {},
   "outputs": [],
   "source": [
    "expected_portfolio_returns = portfolio_returns(df_long, df_short, lookahead_returns, 2*top_bottom_n)"
   ]
  },
  {
   "cell_type": "code",
   "execution_count": 46,
   "metadata": {},
   "outputs": [
    {
     "data": {
      "text/plain": [
       "date\n",
       "2013-07-31    0.00000000\n",
       "2013-08-31    0.00000000\n",
       "2013-09-30   -0.00236456\n",
       "2013-10-31   -0.00222744\n",
       "2013-11-30   -0.00096828\n",
       "Freq: M, dtype: float64"
      ]
     },
     "execution_count": 46,
     "metadata": {},
     "output_type": "execute_result"
    }
   ],
   "source": [
    "'''project_helper.plot_returns(expected_portfolio_returns.T.sum(), 'Portfolio Returns')'''\n",
    "exp_port_returns = expected_portfolio_returns.T.sum()\n",
    "exp_port_returns.head()"
   ]
  },
  {
   "cell_type": "code",
   "execution_count": 47,
   "metadata": {},
   "outputs": [
    {
     "data": {
      "text/plain": [
       "<matplotlib.lines.Line2D at 0x11434dbe0>"
      ]
     },
     "execution_count": 47,
     "metadata": {},
     "output_type": "execute_result"
    },
    {
     "data": {
      "image/png": "[encoded data removed]",
      "text/plain": [
       "<matplotlib.figure.Figure at 0x1126b1908>"
      ]
     },
     "metadata": {},
     "output_type": "display_data"
    }
   ],
   "source": [
    "exp_port_returns.plot()\n",
    "plt.axhline(y = 0, color='gray', linestyle='--', linewidth=0.7)"
   ]
  },
  {
   "cell_type": "markdown",
   "metadata": {},
   "source": [
    "## Statistical Tests\n",
    "### Annualized Rate of Return"
   ]
  },
  {
   "cell_type": "code",
   "execution_count": 48,
   "metadata": {},
   "outputs": [
    {
     "name": "stdout",
     "output_type": "stream",
     "text": [
      "\n",
      "Mean:                       0.003185\n",
      "Standard Error:             0.002158\n",
      "Annualized Rate of Return:  3.90%\n",
      "\n"
     ]
    }
   ],
   "source": [
    "expected_portfolio_returns_by_date = expected_portfolio_returns.T.sum().dropna()\n",
    "portfolio_ret_mean = expected_portfolio_returns_by_date.mean()\n",
    "portfolio_ret_ste = expected_portfolio_returns_by_date.sem()\n",
    "portfolio_ret_annual_rate = (np.exp(portfolio_ret_mean * 12) - 1) * 100\n",
    "\n",
    "print(\"\"\"\n",
    "Mean:                       {:.6f}\n",
    "Standard Error:             {:.6f}\n",
    "Annualized Rate of Return:  {:.2f}%\n",
    "\"\"\".format(portfolio_ret_mean, portfolio_ret_ste, portfolio_ret_annual_rate))"
   ]
  },
  {
   "cell_type": "markdown",
   "metadata": {},
   "source": [
    "The annualized rate of return allows you to compare the rate of return from this strategy to other quoted rates of return, which are usually quoted on an annual basis. "
   ]
  },
  {
   "cell_type": "markdown",
   "metadata": {},
   "source": [
    "### T-Test\n",
    "Our null hypothesis ($H_0$) is that the actual mean return from the signal is zero. We'll perform a one-sample, one-sided t-test on the observed mean return, to see if we can reject $H_0$.\n",
    "\n",
    "We'll need to first compute the t-statistic, and then find its corresponding p-value. The p-value will indicate the probability of observing a mean return equally or more extreme than the one we observed if the null hypothesis were true. A small p-value means that the chance of observing the mean we observed under the null hypothesis is small, and thus casts doubt on the null hypothesis. It's good practice to set a desired level of significance or alpha ($\\alpha$) _before_ computing the p-value, and then reject the null hypothesis if $p < \\alpha$.\n",
    "\n",
    "For this project, we'll use $\\alpha = 0.05$, since it's a common value to use.\n",
    "\n",
    "Implement the `analyze_alpha` function to perform a t-test on the sample of portfolio returns. We've imported the `scipy.stats` module for you to perform the t-test.\n",
    "\n",
    "Note: [`scipy.stats.ttest_1samp`](https://docs.scipy.org/doc/scipy-1.0.0/reference/generated/scipy.stats.ttest_1samp.html) performs a two-sided test, so divide the p-value by 2 to get 1-sided p-value"
   ]
  },
  {
   "cell_type": "code",
   "execution_count": 49,
   "metadata": {},
   "outputs": [
    {
     "name": "stdout",
     "output_type": "stream",
     "text": [
      "Tests Passed\n"
     ]
    }
   ],
   "source": [
    "from scipy import stats\n",
    "\n",
    "def analyze_alpha(expected_portfolio_returns_by_date):\n",
    "    \"\"\"\n",
    "    Perform a t-test with the null hypothesis being that the expected mean return is zero.\n",
    "    \n",
    "    Parameters\n",
    "    ----------\n",
    "    expected_portfolio_returns_by_date : Pandas Series\n",
    "        Expected portfolio returns for each date\n",
    "    \n",
    "    Returns\n",
    "    -------\n",
    "    t_value\n",
    "        T-statistic from t-test\n",
    "    p_value\n",
    "        Corresponding p-value\n",
    "    \"\"\"\n",
    "    # TODO: Implement Function\n",
    "    null_hypothesis = 0.0\n",
    "    \n",
    "    stats_values = stats.ttest_1samp(expected_portfolio_returns_by_date, null_hypothesis)\n",
    "    t_value = stats_values[0]\n",
    "    p_value = stats_values[1]/2\n",
    "\n",
    "    return t_value, p_value\n",
    "\n",
    "project_tests.test_analyze_alpha(analyze_alpha)"
   ]
  },
  {
   "cell_type": "markdown",
   "metadata": {},
   "source": [
    "### View Data\n",
    "Let's see what values we get with our portfolio. After you run this, make sure to answer the question below."
   ]
  },
  {
   "cell_type": "code",
   "execution_count": 50,
   "metadata": {},
   "outputs": [
    {
     "name": "stdout",
     "output_type": "stream",
     "text": [
      "\n",
      "Alpha analysis:\n",
      " t-value:        1.476\n",
      " p-value:        0.073339\n",
      "\n"
     ]
    }
   ],
   "source": [
    "t_value, p_value = analyze_alpha(expected_portfolio_returns_by_date)\n",
    "print(\"\"\"\n",
    "Alpha analysis:\n",
    " t-value:        {:.3f}\n",
    " p-value:        {:.6f}\n",
    "\"\"\".format(t_value, p_value))"
   ]
  },
  {
   "cell_type": "markdown",
   "metadata": {},
   "source": [
    "### Question: What p-value did you observe? And what does that indicate about your signal?"
   ]
  },
  {
   "cell_type": "markdown",
   "metadata": {},
   "source": [
    "*#TODO: Put Answer In this Cell* \n",
    "The p-value is 0.073359. Alpha is a threshold chosen to determine whether the probability the null-hypothesis of mean zero is true. A common 2-tailed alpha is 0.10, which for a our 1-tailed test would mean alpha = 0.05. In this case, the p-value is greater than alpha, which means the probablility that the mean return is actually zero is statistically significant. Therefore we must accept the null and reject our estimated mean portfolio return of 3.98% is not reliable."
   ]
  },
  {
   "cell_type": "markdown",
   "metadata": {},
   "source": [
    "## Submission\n",
    "Now that you're done with the project, it's time to submit it. Click the submit button in the bottom right. One of our reviewers will give you feedback on your project with a pass or not passed grade. You can continue to the next section while you wait for feedback."
   ]
  }
 ],
 "metadata": {
  "kernelspec": {
   "display_name": "Python 3",
   "language": "python",
   "name": "python3"
  },
  "language_info": {
   "codemirror_mode": {
    "name": "ipython",
    "version": 3
   },
   "file_extension": ".py",
   "mimetype": "text/x-python",
   "name": "python",
   "nbconvert_exporter": "python",
   "pygments_lexer": "ipython3",
   "version": "3.5.4"
  }
 },
 "nbformat": 4,
 "nbformat_minor": 2
}
